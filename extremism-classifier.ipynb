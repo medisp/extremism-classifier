{
 "cells": [
  {
   "cell_type": "markdown",
   "metadata": {},
   "source": [
    "# Toxicity Classification of Parler Data \n",
    "\n",
    "## Background:\n",
    "Since the Jan 6th attack on the capital, extremism is ever more important to detect and act on.\n",
    "Parler chat data has been made available to various interested parties and has been archived for use.\n",
    "\n",
    "The parler data is inherently unlabeled, thus different strategies can be employed to further the accurate classification of toxicity on this dataset.\n",
    "\n",
    "## Approach\n",
    "\n",
    "I'm opting for a semi-supervised learning process.\n",
    "\n",
    "##### Delta training\n",
    "Taking the most confident model predictions to leak into the training set.. Though it is acknowledged there is bias in this approach.\n",
    "##### Parler word vectors\n",
    "Another approach is to evaluate how word vectors trained on parler data can improve classification.\n",
    "##### Heuristics for predictions on unlabeled data\n",
    "Additional Heuristics are needed to properly gauge/identify predictions on unlabeled parler data.\n",
    "\n",
    "\n",
    "## Steps\n",
    "\n",
    "##### Init Model\n",
    "Initialize a model using labeled data from jigsaw-toxic-comment-classification\n",
    "https://www.kaggle.com/c/jigsaw-toxic-comment-classification-challenge/overview\n",
    "##### Data Wrangling\n",
    "Use work from d0nk to obtain a 2gb set of parler posts\n",
    "https://github.com/d0nk/parler-tricks\n",
    "\n",
    "Used modules from sbooeshaghi's git repo to process the 2GB sample\n",
    "parler data https://github.com/sbooeshaghi/parlertrick/blob/main/parler.ipynb\n",
    "##### Embeddings:\n",
    "Combine parler, toxic tweet, and other data to create a common word vector\n",
    "using GloVe from stanfordnlp\n",
    "https://github.com/stanfordnlp/GloVe\n",
    "##### Data Augmentation via text generation\n",
    "Use textgenrnn made by minimaxir to generate toxic samples trained from test set according to specific labels\n",
    "https://github.com/minimaxir/textgenrnn\n",
    "\n",
    "\n",
    "\n",
    "\n",
    "\n",
    "\n",
    "Please reach out to medisp@icloud.com to collaborate"
   ]
  },
  {
   "cell_type": "code",
   "execution_count": 299,
   "metadata": {
    "scrolled": true
   },
   "outputs": [
    {
     "name": "stderr",
     "output_type": "stream",
     "text": [
      "C:\\Users\\medisp\\Miniconda3\\envs\\keras\\lib\\site-packages\\ipykernel_launcher.py:23: FutureWarning: Passing a negative integer is deprecated in version 1.0 and will not be supported in future version. Instead, use None to not limit the column width.\n"
     ]
    }
   ],
   "source": [
    "import sys, os, re, csv, codecs, numpy as np, pandas as pd\n",
    "import matplotlib.pyplot as plt\n",
    "%matplotlib inline\n",
    "import re\n",
    "from tqdm import tqdm_notebook\n",
    "\n",
    "from nltk.corpus import stopwords\n",
    "\n",
    "from tensorflow.keras import regularizers, initializers, optimizers, callbacks\n",
    "from tensorflow.keras.preprocessing.sequence import pad_sequences\n",
    "from tensorflow.keras.preprocessing.text import Tokenizer\n",
    "from keras.utils.np_utils import to_categorical\n",
    "from tensorflow.keras.layers import *\n",
    "from tensorflow.keras.models import Model\n",
    "from tensorflow.keras.callbacks import *\n",
    "pd.set_option('expand_frame_repr', False)\n",
    "pd.set_option('display.width', 1000)\n",
    "pd.set_option('display.max_columns', 1000)\n",
    "pd.set_option('display.max_rows', 100)\n",
    "pd.set_option('display.max_columns', None)\n",
    "pd.set_option('display.width', 2000)\n",
    "pd.set_option('display.float_format', '{:20,.2f}'.format)\n",
    "pd.set_option('display.max_colwidth', -1)"
   ]
  },
  {
   "cell_type": "code",
   "execution_count": 300,
   "metadata": {},
   "outputs": [
    {
     "data": {
      "text/plain": [
       "'/device:GPU:0'"
      ]
     },
     "execution_count": 300,
     "metadata": {},
     "output_type": "execute_result"
    }
   ],
   "source": [
    "import tensorflow as tf\n",
    "tf.test.gpu_device_name()"
   ]
  },
  {
   "cell_type": "code",
   "execution_count": 301,
   "metadata": {},
   "outputs": [],
   "source": [
    "from tensorflow.python.client import device_lib"
   ]
  },
  {
   "cell_type": "code",
   "execution_count": 302,
   "metadata": {},
   "outputs": [
    {
     "name": "stdout",
     "output_type": "stream",
     "text": [
      "[name: \"/device:CPU:0\"\n",
      "device_type: \"CPU\"\n",
      "memory_limit: 268435456\n",
      "locality {\n",
      "}\n",
      "incarnation: 7553863646481222494\n",
      ", name: \"/device:GPU:0\"\n",
      "device_type: \"GPU\"\n",
      "memory_limit: 2251253350\n",
      "locality {\n",
      "  bus_id: 1\n",
      "  links {\n",
      "  }\n",
      "}\n",
      "incarnation: 13439922086561430166\n",
      "physical_device_desc: \"device: 0, name: GeForce GTX 780 Ti, pci bus id: 0000:03:00.0, compute capability: 3.5\"\n",
      "]\n"
     ]
    }
   ],
   "source": [
    "print(device_lib.list_local_devices())"
   ]
  },
  {
   "cell_type": "code",
   "execution_count": 303,
   "metadata": {
    "scrolled": true
   },
   "outputs": [
    {
     "name": "stdout",
     "output_type": "stream",
     "text": [
      "2.4.1\n",
      "2.3.1\n"
     ]
    }
   ],
   "source": [
    "import keras\n",
    "print(tf.__version__)\n",
    "print(keras.__version__)"
   ]
  },
  {
   "cell_type": "markdown",
   "metadata": {},
   "source": [
    "### Set attributes and load data"
   ]
  },
  {
   "cell_type": "code",
   "execution_count": 304,
   "metadata": {},
   "outputs": [],
   "source": [
    "MAX_NB_WORDS = 100000    # max no. of words for tokenizer\n",
    "MAX_SEQUENCE_LENGTH = 200 # max length of each entry (sentence), including padding\n",
    "VALIDATION_SPLIT = 0.2   # data for validation (not used in training)\n",
    "EMBEDDING_DIM = 200      # embedding dimensions for word vectors (word2vec/GloVe)\n",
    "#GLOVE_DIR = \"glove/glove.6B.\"+str(EMBEDDING_DIM)+\"d.txt\"\n",
    "\n",
    "train = pd.read_csv('labeled_data/train.csv' ) # , header=0, sep=',', quotechar='\"')\n",
    "test = pd.read_csv('labeled_data/test.csv' ) # , header=0, sep=',', quotechar='\"')\n",
    "labels_test = pd.read_csv('labeled_data/test_labels.csv' ) # , header=0, sep=',', quotechar='\"')\n",
    "labels = ['toxic', 'severe_toxic', 'obscene', 'threat', 'insult', 'identity_hate']\n",
    "\n",
    "y = train[labels].values\n",
    "comments_train = train['comment_text']\n",
    "comments_train = list(comments_train)\n",
    "\n",
    "# According to https://www.kaggle.com/c/jigsaw-toxic-comment-classification-challenge/discussion/55975\n",
    "# labels of -1 weren't used in scoring and are not actually labels\n",
    "\n",
    "labels_test = labels_test[(labels_test[labels] != -1).any(axis=1)]\n",
    "test = test.iloc[labels_test.index]\n",
    "test_y = labels_test[labels].values"
   ]
  },
  {
   "cell_type": "markdown",
   "metadata": {},
   "source": [
    "### Text processing"
   ]
  },
  {
   "cell_type": "code",
   "execution_count": 305,
   "metadata": {},
   "outputs": [],
   "source": [
    "def clean_text(text, remove_stopwords = True):\n",
    "    output = \"\"\n",
    "    text = str(text).replace(\"\\n\", \"\")\n",
    "    text = re.sub(r'\\W+',' ',text).lower()\n",
    "    if remove_stopwords:\n",
    "        text = text.split(\" \")\n",
    "        for word in text:\n",
    "            if word not in stopwords.words(\"english\"):\n",
    "                output = output + \" \" + word\n",
    "    else:\n",
    "        output = text\n",
    "    return str(output)"
   ]
  },
  {
   "cell_type": "code",
   "execution_count": 306,
   "metadata": {},
   "outputs": [
    {
     "data": {
      "text/plain": [
       "'could not be more clear'"
      ]
     },
     "execution_count": 306,
     "metadata": {},
     "output_type": "execute_result"
    }
   ],
   "source": [
    "clean_text('Could not be more clear',False)"
   ]
  },
  {
   "cell_type": "code",
   "execution_count": null,
   "metadata": {},
   "outputs": [],
   "source": [
    "# texts = [] \n",
    "\n",
    "# for line in comments_train: \n",
    "#     texts.append(clean_text(line))\n",
    "# print('Sample data:', texts[1], y[1])"
   ]
  },
  {
   "cell_type": "markdown",
   "metadata": {},
   "source": [
    "### Save processed text\n",
    "Takes an hour or so"
   ]
  },
  {
   "cell_type": "code",
   "execution_count": null,
   "metadata": {},
   "outputs": [],
   "source": [
    "# with open('text_files/train_cleansed_text.txt', 'w', encoding=\"utf-8\") as filehandle:\n",
    "#     filehandle.writelines(\"%s\\n\" % line for line in texts)"
   ]
  },
  {
   "cell_type": "code",
   "execution_count": 307,
   "metadata": {},
   "outputs": [],
   "source": [
    "# read in saved cleansed training test as a list\n",
    "# define empty list\n",
    "texts = []\n",
    "# open file and read the cleansed texts\n",
    "with open('text_files/train_cleansed_text.txt', 'r', encoding=\"utf-8\") as filehandle:\n",
    "    filecontents = filehandle.readlines()\n",
    "    for line in filecontents:\n",
    "        # remove linebreak which is the last character of the string\n",
    "        current_place = line[:-1]\n",
    "        # add item to the list\n",
    "        texts.append(current_place)"
   ]
  },
  {
   "cell_type": "markdown",
   "metadata": {},
   "source": [
    "### Create Tokenizers and Sequences\n",
    "\n",
    "Using a word level tokenizer "
   ]
  },
  {
   "cell_type": "code",
   "execution_count": 308,
   "metadata": {},
   "outputs": [
    {
     "name": "stdout",
     "output_type": "stream",
     "text": [
      "Vocabulary size: 207546\n"
     ]
    }
   ],
   "source": [
    "tokenizer = Tokenizer(num_words=MAX_NB_WORDS)\n",
    "tokenizer.fit_on_texts(texts)\n",
    "sequences = tokenizer.texts_to_sequences(texts)\n",
    "word_index = tokenizer.word_index\n",
    "print('Vocabulary size:', len(word_index))"
   ]
  },
  {
   "cell_type": "markdown",
   "metadata": {},
   "source": [
    "### Pad Sequences and view tensor shapes"
   ]
  },
  {
   "cell_type": "code",
   "execution_count": 309,
   "metadata": {},
   "outputs": [
    {
     "name": "stdout",
     "output_type": "stream",
     "text": [
      "Shape of data tensor: (159571, 200)\n",
      "Shape of label tensor: (159571, 6)\n"
     ]
    }
   ],
   "source": [
    "data = pad_sequences(sequences, padding = 'post', maxlen = MAX_SEQUENCE_LENGTH)\n",
    "print('Shape of data tensor:', data.shape)\n",
    "print('Shape of label tensor:', y.shape)"
   ]
  },
  {
   "cell_type": "markdown",
   "metadata": {},
   "source": [
    "### Shuffle Data"
   ]
  },
  {
   "cell_type": "code",
   "execution_count": 310,
   "metadata": {},
   "outputs": [],
   "source": [
    "indices = np.arange(data.shape[0])\n",
    "np.random.shuffle(indices)\n",
    "data = data[indices]\n",
    "labels = y[indices]"
   ]
  },
  {
   "cell_type": "markdown",
   "metadata": {},
   "source": [
    "### Split Training and Validation data"
   ]
  },
  {
   "cell_type": "code",
   "execution_count": 311,
   "metadata": {},
   "outputs": [
    {
     "name": "stdout",
     "output_type": "stream",
     "text": [
      "Number of samples in each category:\n",
      "training:  [12220  1304  6720   394  6294  1149]\n",
      "validation:  [3074  291 1729   84 1583  256]\n"
     ]
    }
   ],
   "source": [
    "num_validation_samples = int(VALIDATION_SPLIT*data.shape[0])\n",
    "x_train = data[: -num_validation_samples]\n",
    "y_train = labels[: -num_validation_samples]\n",
    "x_val = data[-num_validation_samples: ]\n",
    "y_val = labels[-num_validation_samples: ]\n",
    "print('Number of samples in each category:')\n",
    "print('training: ', y_train.sum(axis=0))\n",
    "print('validation: ', y_val.sum(axis=0))"
   ]
  },
  {
   "cell_type": "code",
   "execution_count": 312,
   "metadata": {},
   "outputs": [
    {
     "name": "stdout",
     "output_type": "stream",
     "text": [
      "Tokenized sentences: \n",
      " [ 3118  5587 31000  5587 22080    72     3  1400  3118  5587 31000    27\n",
      "  5587 22080   835  5587 31000    34   515  5587 22080  9844   269   215\n",
      " 75111   136  2846  1200   152  4884   131  2459  4687     0     0     0\n",
      "     0     0     0     0     0     0     0     0     0     0     0     0\n",
      "     0     0     0     0     0     0     0     0     0     0     0     0\n",
      "     0     0     0     0     0     0     0     0     0     0     0     0\n",
      "     0     0     0     0     0     0     0     0     0     0     0     0\n",
      "     0     0     0     0     0     0     0     0     0     0     0     0\n",
      "     0     0     0     0     0     0     0     0     0     0     0     0\n",
      "     0     0     0     0     0     0     0     0     0     0     0     0\n",
      "     0     0     0     0     0     0     0     0     0     0     0     0\n",
      "     0     0     0     0     0     0     0     0     0     0     0     0\n",
      "     0     0     0     0     0     0     0     0     0     0     0     0\n",
      "     0     0     0     0     0     0     0     0     0     0     0     0\n",
      "     0     0     0     0     0     0     0     0     0     0     0     0\n",
      "     0     0     0     0     0     0     0     0     0     0     0     0\n",
      "     0     0     0     0     0     0     0     0]\n",
      "One hot label: \n",
      " [0 0 0 0 0 0]\n"
     ]
    }
   ],
   "source": [
    "print('Tokenized sentences: \\n', data[10])\n",
    "print('One hot label: \\n', labels[10])"
   ]
  },
  {
   "cell_type": "markdown",
   "metadata": {},
   "source": [
    "### Word Vectors\n",
    "set initial baseline by using twitter 200B word vectors\n",
    "\n",
    "Observe for improvement by using parler + train + test data"
   ]
  },
  {
   "cell_type": "code",
   "execution_count": 313,
   "metadata": {},
   "outputs": [
    {
     "name": "stdout",
     "output_type": "stream",
     "text": [
      "Loading GloVe from: glove_vectors/glove.twitter.27B.200d.txt ...Done.\n",
      " Proceeding with Embedding Matrix... Completed!\n"
     ]
    }
   ],
   "source": [
    "# Using Twitter 200B word vectors\n",
    "embeddings_index = {}\n",
    "GLOVE_DIR = \"glove_vectors/glove.twitter.27B.\"+str(EMBEDDING_DIM)+\"d.txt\"\n",
    "#GLOVE_DIR = \"glove/vectors.txt\"\n",
    "f = open(GLOVE_DIR, errors = 'ignore' , encoding=\"utf8\")\n",
    "print('Loading GloVe from:', GLOVE_DIR,'...', end='')\n",
    "for line in f:\n",
    "    values = line.split()\n",
    "    word = values[0]\n",
    "    embeddings_index[word] = np.asarray(values[1:], dtype='float32')\n",
    "f.close()\n",
    "print(\"Done.\\n Proceeding with Embedding Matrix...\", end=\"\")\n",
    "\n",
    "embedding_matrix = np.random.random((len(word_index) + 1, EMBEDDING_DIM))\n",
    "for word, i in word_index.items():\n",
    "    embedding_vector = embeddings_index.get(word)\n",
    "    if embedding_vector is not None:\n",
    "        embedding_matrix[i] = embedding_vector\n",
    "print(\" Completed!\")"
   ]
  },
  {
   "cell_type": "markdown",
   "metadata": {},
   "source": [
    "### Create Model\n",
    "\n",
    "The model uses an input layer bounded by sequence length of the texts. Issues may arise when long text samples are sent for prediction.\n",
    "\n",
    "The embedding layer is initialized via weights from word vectors\n",
    "\n",
    "LSTM Cell with 60 units with return sequences = True, returning values from each time/sequence step.\n",
    "\n",
    "Max pooling to capture most important time step\n",
    "\n",
    "Dropout layer\n",
    "\n",
    "Dense layer with rectified linear unit activation\n",
    "\n",
    "Dropout layer 2\n",
    "\n",
    "Sigmoid final layer to give probabilities of each class (6)\n",
    "\n",
    "\n",
    "TODO: \n",
    "- Skip connections? \n",
    "- Lasso(l1) or Ridge (l2) regularization\n",
    "- dropout tuning\n",
    "- 2 different embeddings with concatenation before LSTM"
   ]
  },
  {
   "cell_type": "code",
   "execution_count": 314,
   "metadata": {},
   "outputs": [],
   "source": [
    "#  input --> embedding --> lstm 60 cell --> pooling --> dropout --> dense --> drop --> final dense\n",
    "\n",
    "sequence_input = Input(shape=(MAX_SEQUENCE_LENGTH,), dtype='int32')\n",
    "embedding_layer = Embedding(len(word_index) + 1,\n",
    "                           EMBEDDING_DIM,\n",
    "                           weights = [embedding_matrix],\n",
    "                           input_length = MAX_SEQUENCE_LENGTH,\n",
    "                           trainable=False,\n",
    "                           name = 'embeddings')\n",
    "embedded_sequences = embedding_layer(sequence_input)\n",
    "x = LSTM(60, return_sequences=True,name='lstm_layer')(embedded_sequences)\n",
    "x = GlobalMaxPool1D()(x)\n",
    "x = Dropout(0.1)(x)\n",
    "x = Dense(50, activation=\"relu\")(x)\n",
    "x = Dropout(0.1)(x)\n",
    "preds = Dense(6, activation=\"sigmoid\")(x)"
   ]
  },
  {
   "cell_type": "markdown",
   "metadata": {},
   "source": [
    "### Compile Model\n",
    "\n",
    "Instantiating model with input and output\n",
    "compiling model using binary cross entropy loss, and adam optimizer\n",
    "\n",
    "TODO: ADAM learning rate + learning rate decay\n"
   ]
  },
  {
   "cell_type": "code",
   "execution_count": 315,
   "metadata": {},
   "outputs": [],
   "source": [
    "model = Model(sequence_input, preds)\n",
    "model.compile(loss = 'binary_crossentropy',\n",
    "             optimizer='adam',\n",
    "             metrics = ['accuracy'])"
   ]
  },
  {
   "cell_type": "code",
   "execution_count": 316,
   "metadata": {},
   "outputs": [],
   "source": [
    "import keras\n",
    "import pydot\n",
    "import pydotplus\n",
    "#import os\n",
    "#os.environ[\"PATH\"] += os.pathsep + 'C:/Program Files/Graphviz/bin/'\n",
    "from pydotplus import graphviz\n",
    "from tensorflow.keras.utils import plot_model\n",
    "from keras.utils.vis_utils import model_to_dot\n",
    "keras.utils.vis_utils.pydot = pydot\n"
   ]
  },
  {
   "cell_type": "markdown",
   "metadata": {},
   "source": [
    "### Model Visualization"
   ]
  },
  {
   "cell_type": "code",
   "execution_count": 317,
   "metadata": {},
   "outputs": [
    {
     "data": {
      "image/png": "[encoded data removed]",
      "text/plain": [
       "<IPython.core.display.Image object>"
      ]
     },
     "execution_count": 317,
     "metadata": {},
     "output_type": "execute_result"
    }
   ],
   "source": [
    "plot_model(model)\n"
   ]
  },
  {
   "cell_type": "code",
   "execution_count": 318,
   "metadata": {},
   "outputs": [
    {
     "name": "stdout",
     "output_type": "stream",
     "text": [
      "Model: \"model_1\"\n",
      "_________________________________________________________________\n",
      "Layer (type)                 Output Shape              Param #   \n",
      "=================================================================\n",
      "input_2 (InputLayer)         [(None, 200)]             0         \n",
      "_________________________________________________________________\n",
      "embeddings (Embedding)       (None, 200, 200)          41509400  \n",
      "_________________________________________________________________\n",
      "lstm_layer (LSTM)            (None, 200, 60)           62640     \n",
      "_________________________________________________________________\n",
      "global_max_pooling1d_1 (Glob (None, 60)                0         \n",
      "_________________________________________________________________\n",
      "dropout_2 (Dropout)          (None, 60)                0         \n",
      "_________________________________________________________________\n",
      "dense_2 (Dense)              (None, 50)                3050      \n",
      "_________________________________________________________________\n",
      "dropout_3 (Dropout)          (None, 50)                0         \n",
      "_________________________________________________________________\n",
      "dense_3 (Dense)              (None, 6)                 306       \n",
      "=================================================================\n",
      "Total params: 41,575,396\n",
      "Trainable params: 65,996\n",
      "Non-trainable params: 41,509,400\n",
      "_________________________________________________________________\n"
     ]
    }
   ],
   "source": [
    "model.summary() "
   ]
  },
  {
   "cell_type": "markdown",
   "metadata": {},
   "source": [
    "### Keras callbacks mid epoch"
   ]
  },
  {
   "cell_type": "code",
   "execution_count": 319,
   "metadata": {},
   "outputs": [],
   "source": [
    "filepath = \"models/toxic-classifier/tc-gpu-v0.05-200emb-{epoch:02d}-{accuracy:.2f}.hdf5\"\n",
    "checkpoint = ModelCheckpoint(filepath, \n",
    "                             monitor='accuracy', \n",
    "                             verbose=1, \n",
    "                             save_best_only=True, \n",
    "                             mode='max')\n",
    "\n",
    "reduce_lr = ReduceLROnPlateau(monitor='accuracy',\n",
    "                             factor=0.2,\n",
    "                             patience=2,\n",
    "                             min_lr=0.0001)\n",
    "\n",
    "early_stopping = EarlyStopping(monitor='accuracy',\n",
    "                              patience=6\n",
    "                              )"
   ]
  },
  {
   "cell_type": "markdown",
   "metadata": {},
   "source": [
    "### Execute Training"
   ]
  },
  {
   "cell_type": "code",
   "execution_count": 320,
   "metadata": {
    "scrolled": true
   },
   "outputs": [
    {
     "name": "stdout",
     "output_type": "stream",
     "text": [
      "Training progress:\n",
      "Epoch 1/30\n",
      "WARNING:tensorflow:AutoGraph could not transform <function Model.make_train_function.<locals>.train_function at 0x0000027FD6CF8A60> and will run it as-is.\n",
      "Please report this to the TensorFlow team. When filing the bug, set the verbosity to 10 (on Linux, `export AUTOGRAPH_VERBOSITY=10`) and attach the full output.\n",
      "Cause: 'arguments' object has no attribute 'posonlyargs'\n",
      "To silence this warning, decorate the function with @tf.autograph.experimental.do_not_convert\n",
      "WARNING: AutoGraph could not transform <function Model.make_train_function.<locals>.train_function at 0x0000027FD6CF8A60> and will run it as-is.\n",
      "Please report this to the TensorFlow team. When filing the bug, set the verbosity to 10 (on Linux, `export AUTOGRAPH_VERBOSITY=10`) and attach the full output.\n",
      "Cause: 'arguments' object has no attribute 'posonlyargs'\n",
      "To silence this warning, decorate the function with @tf.autograph.experimental.do_not_convert\n",
      "125/125 [==============================] - ETA: 0s - loss: 0.3236 - accuracy: 0.2445WARNING:tensorflow:AutoGraph could not transform <function Model.make_test_function.<locals>.test_function at 0x0000027FD6E961E0> and will run it as-is.\n",
      "Please report this to the TensorFlow team. When filing the bug, set the verbosity to 10 (on Linux, `export AUTOGRAPH_VERBOSITY=10`) and attach the full output.\n",
      "Cause: 'arguments' object has no attribute 'posonlyargs'\n",
      "To silence this warning, decorate the function with @tf.autograph.experimental.do_not_convert\n",
      "WARNING: AutoGraph could not transform <function Model.make_test_function.<locals>.test_function at 0x0000027FD6E961E0> and will run it as-is.\n",
      "Please report this to the TensorFlow team. When filing the bug, set the verbosity to 10 (on Linux, `export AUTOGRAPH_VERBOSITY=10`) and attach the full output.\n",
      "Cause: 'arguments' object has no attribute 'posonlyargs'\n",
      "To silence this warning, decorate the function with @tf.autograph.experimental.do_not_convert\n",
      "125/125 [==============================] - 27s 198ms/step - loss: 0.3225 - accuracy: 0.2468 - val_loss: 0.0817 - val_accuracy: 0.9941\n",
      "Epoch 2/30\n",
      "125/125 [==============================] - 24s 193ms/step - loss: 0.0765 - accuracy: 0.8261 - val_loss: 0.0551 - val_accuracy: 0.9941\n",
      "Epoch 3/30\n",
      "125/125 [==============================] - 24s 192ms/step - loss: 0.0570 - accuracy: 0.8887 - val_loss: 0.0520 - val_accuracy: 0.9941\n",
      "Epoch 4/30\n",
      "125/125 [==============================] - 24s 194ms/step - loss: 0.0534 - accuracy: 0.9190 - val_loss: 0.0508 - val_accuracy: 0.9941\n",
      "Epoch 5/30\n",
      "125/125 [==============================] - 24s 194ms/step - loss: 0.0523 - accuracy: 0.9451 - val_loss: 0.0502 - val_accuracy: 0.9941\n",
      "Epoch 6/30\n",
      "125/125 [==============================] - 24s 193ms/step - loss: 0.0503 - accuracy: 0.9502 - val_loss: 0.0488 - val_accuracy: 0.9941\n",
      "Epoch 7/30\n",
      "125/125 [==============================] - 24s 193ms/step - loss: 0.0485 - accuracy: 0.9519 - val_loss: 0.0481 - val_accuracy: 0.9941\n",
      "Epoch 8/30\n",
      "125/125 [==============================] - 24s 193ms/step - loss: 0.0474 - accuracy: 0.9646 - val_loss: 0.0493 - val_accuracy: 0.9940\n",
      "Epoch 9/30\n",
      "125/125 [==============================] - 24s 193ms/step - loss: 0.0466 - accuracy: 0.9655 - val_loss: 0.0468 - val_accuracy: 0.9941\n",
      "Epoch 10/30\n",
      "125/125 [==============================] - 24s 194ms/step - loss: 0.0456 - accuracy: 0.9725 - val_loss: 0.0484 - val_accuracy: 0.9941\n",
      "Epoch 11/30\n",
      "125/125 [==============================] - 24s 193ms/step - loss: 0.0449 - accuracy: 0.9781 - val_loss: 0.0462 - val_accuracy: 0.9941\n",
      "Epoch 12/30\n",
      "125/125 [==============================] - 24s 193ms/step - loss: 0.0440 - accuracy: 0.9808 - val_loss: 0.0459 - val_accuracy: 0.9941\n",
      "Epoch 13/30\n",
      "125/125 [==============================] - 24s 193ms/step - loss: 0.0417 - accuracy: 0.9806 - val_loss: 0.0471 - val_accuracy: 0.9940\n",
      "Epoch 14/30\n",
      "125/125 [==============================] - 24s 195ms/step - loss: 0.0410 - accuracy: 0.9824 - val_loss: 0.0468 - val_accuracy: 0.9940\n",
      "Epoch 15/30\n",
      "125/125 [==============================] - 24s 193ms/step - loss: 0.0403 - accuracy: 0.9841 - val_loss: 0.0456 - val_accuracy: 0.9941\n",
      "Epoch 16/30\n",
      "125/125 [==============================] - 24s 194ms/step - loss: 0.0396 - accuracy: 0.9845 - val_loss: 0.0483 - val_accuracy: 0.9937\n",
      "Epoch 17/30\n",
      "125/125 [==============================] - 24s 193ms/step - loss: 0.0390 - accuracy: 0.9845 - val_loss: 0.0454 - val_accuracy: 0.9938\n",
      "Epoch 18/30\n",
      "125/125 [==============================] - 24s 193ms/step - loss: 0.0380 - accuracy: 0.9852 - val_loss: 0.0460 - val_accuracy: 0.9941\n",
      "Epoch 19/30\n",
      "125/125 [==============================] - 24s 193ms/step - loss: 0.0374 - accuracy: 0.9859 - val_loss: 0.0490 - val_accuracy: 0.9937\n",
      "Epoch 20/30\n",
      "125/125 [==============================] - 24s 194ms/step - loss: 0.0372 - accuracy: 0.9861 - val_loss: 0.0470 - val_accuracy: 0.9938\n",
      "Epoch 21/30\n",
      "125/125 [==============================] - 24s 192ms/step - loss: 0.0357 - accuracy: 0.9859 - val_loss: 0.0471 - val_accuracy: 0.9940\n",
      "Epoch 22/30\n",
      "125/125 [==============================] - 24s 192ms/step - loss: 0.0354 - accuracy: 0.9867 - val_loss: 0.0470 - val_accuracy: 0.9937\n",
      "Epoch 23/30\n",
      "125/125 [==============================] - 24s 192ms/step - loss: 0.0347 - accuracy: 0.9869 - val_loss: 0.0487 - val_accuracy: 0.9940\n",
      "Epoch 24/30\n",
      "125/125 [==============================] - 24s 193ms/step - loss: 0.0334 - accuracy: 0.9863 - val_loss: 0.0486 - val_accuracy: 0.9939\n",
      "Epoch 25/30\n",
      "125/125 [==============================] - 24s 192ms/step - loss: 0.0322 - accuracy: 0.9859 - val_loss: 0.0499 - val_accuracy: 0.9939\n",
      "Epoch 26/30\n",
      "125/125 [==============================] - 24s 193ms/step - loss: 0.0325 - accuracy: 0.9855 - val_loss: 0.0494 - val_accuracy: 0.9939\n",
      "Epoch 27/30\n",
      "125/125 [==============================] - 24s 192ms/step - loss: 0.0324 - accuracy: 0.9850 - val_loss: 0.0500 - val_accuracy: 0.9939\n"
     ]
    }
   ],
   "source": [
    "print('Training progress:')\n",
    "history = model.fit(x_train, \n",
    "                    y_train, \n",
    "                    epochs = 30, \n",
    "                    batch_size=1024, \n",
    "                    validation_data=(x_val, y_val), \n",
    "                    callbacks= [reduce_lr,\n",
    "                               early_stopping])"
   ]
  },
  {
   "cell_type": "code",
   "execution_count": 321,
   "metadata": {},
   "outputs": [],
   "source": [
    "model.save('models/toxic-classifier/tc-gpu-v0.05-200emb.hdf5')"
   ]
  },
  {
   "cell_type": "markdown",
   "metadata": {},
   "source": [
    "### Evaluation"
   ]
  },
  {
   "cell_type": "code",
   "execution_count": 322,
   "metadata": {
    "scrolled": true
   },
   "outputs": [
    {
     "data": {
      "image/png": "[encoded data removed]",
      "text/plain": [
       "<Figure size 432x288 with 1 Axes>"
      ]
     },
     "metadata": {
      "needs_background": "light"
     },
     "output_type": "display_data"
    }
   ],
   "source": [
    "loss = history.history['loss']\n",
    "val_loss = history.history['val_loss']\n",
    "epochs = range(1, len(loss)+1)\n",
    "plt.plot(epochs, loss, label='Training loss')\n",
    "plt.plot(epochs, val_loss, label='Validation loss')\n",
    "plt.title('Training and validation loss')\n",
    "plt.xlabel('Epochs')\n",
    "plt.ylabel('Loss')\n",
    "plt.legend()\n",
    "plt.show();\n"
   ]
  },
  {
   "cell_type": "markdown",
   "metadata": {},
   "source": [
    "#### Process and encode test input"
   ]
  },
  {
   "cell_type": "code",
   "execution_count": null,
   "metadata": {},
   "outputs": [],
   "source": [
    "test_cleansed_text = list(test.apply(lambda x: clean_text(x.comment_text), axis=1))"
   ]
  },
  {
   "cell_type": "code",
   "execution_count": null,
   "metadata": {},
   "outputs": [],
   "source": [
    "with open('text_files/test_cleansed_text.txt', 'w', encoding=\"utf-8\") as filehandle:\n",
    "    filehandle.writelines(\"%s\\n\" % line for line in test_cleansed_text)"
   ]
  },
  {
   "cell_type": "code",
   "execution_count": 324,
   "metadata": {},
   "outputs": [],
   "source": [
    "# Reading in saved test cleansed text as a list\n",
    "test_cleansed_text = []\n",
    "# open file and read the cleansed texts\n",
    "with open('text_files/test_cleansed_text.txt', 'r', encoding=\"utf-8\") as filehandle:\n",
    "    filecontents = filehandle.readlines()\n",
    "    for line in filecontents:\n",
    "        # remove linebreak which is the last character of the string\n",
    "        current_place = line[:-1]\n",
    "        # add item to the list\n",
    "        test_cleansed_text.append(current_place)"
   ]
  },
  {
   "cell_type": "code",
   "execution_count": 325,
   "metadata": {},
   "outputs": [],
   "source": [
    "encoded_input = tokenizer.texts_to_sequences(test_cleansed_text)"
   ]
  },
  {
   "cell_type": "code",
   "execution_count": 326,
   "metadata": {},
   "outputs": [],
   "source": [
    "enc_data = pad_sequences(encoded_input, padding = 'post', maxlen = MAX_SEQUENCE_LENGTH)"
   ]
  },
  {
   "cell_type": "code",
   "execution_count": 327,
   "metadata": {},
   "outputs": [
    {
     "name": "stdout",
     "output_type": "stream",
     "text": [
      "WARNING:tensorflow:AutoGraph could not transform <function Model.make_predict_function.<locals>.predict_function at 0x0000028056168D90> and will run it as-is.\n",
      "Please report this to the TensorFlow team. When filing the bug, set the verbosity to 10 (on Linux, `export AUTOGRAPH_VERBOSITY=10`) and attach the full output.\n",
      "Cause: 'arguments' object has no attribute 'posonlyargs'\n",
      "To silence this warning, decorate the function with @tf.autograph.experimental.do_not_convert\n",
      "WARNING: AutoGraph could not transform <function Model.make_predict_function.<locals>.predict_function at 0x0000028056168D90> and will run it as-is.\n",
      "Please report this to the TensorFlow team. When filing the bug, set the verbosity to 10 (on Linux, `export AUTOGRAPH_VERBOSITY=10`) and attach the full output.\n",
      "Cause: 'arguments' object has no attribute 'posonlyargs'\n",
      "To silence this warning, decorate the function with @tf.autograph.experimental.do_not_convert\n"
     ]
    }
   ],
   "source": [
    "test_preds = model.predict(enc_data)"
   ]
  },
  {
   "cell_type": "markdown",
   "metadata": {},
   "source": [
    "#### Compute stats metrics"
   ]
  },
  {
   "cell_type": "code",
   "execution_count": 328,
   "metadata": {},
   "outputs": [],
   "source": [
    "from sklearn.metrics import roc_auc_score\n",
    "from sklearn.metrics import log_loss\n",
    "\n",
    "def calc_auc(y_true,y_pred):\n",
    "     return np.mean([roc_auc_score(y_true[:, i], y_pred[:, i]) \n",
    "                    for i in range(y_true.shape[1])])\n",
    "    \n",
    "def calc_loss(y_true, y_pred):\n",
    "    return np.mean([log_loss(y_true[:, i], y_pred[:, i]) \n",
    "                    for i in range(y_true.shape[1])])\n",
    "\n",
    "def roc_auc_score_multiclass(y_true, y_pred, average = \"macro\"):\n",
    "    roc_auc_dict = {}\n",
    "  # iterate through labels\n",
    "    labels = ['toxic', 'severe_toxic', 'obscene', 'threat', 'insult', 'identity_hate']\n",
    "    for i,label in enumerate(labels):\n",
    "        #using the sklearn metrics method to calculate the roc_auc_score\n",
    "        try:\n",
    "            roc_auc = roc_auc_score(y_true[:,i], y_pred[:,i], average = average)\n",
    "        except:\n",
    "            roc_auc = 0\n",
    "        roc_auc_dict[label] = roc_auc\n",
    "\n",
    "    return roc_auc_dict"
   ]
  },
  {
   "cell_type": "code",
   "execution_count": 329,
   "metadata": {},
   "outputs": [
    {
     "name": "stdout",
     "output_type": "stream",
     "text": [
      "AUC          0.9774\n",
      "Log Loss     0.0754\n"
     ]
    },
    {
     "data": {
      "text/plain": [
       "{'toxic': 0.9634032219853115,\n",
       " 'severe_toxic': 0.9885466787079523,\n",
       " 'obscene': 0.9769167253915308,\n",
       " 'threat': 0.9838606740460698,\n",
       " 'insult': 0.9710725081101222,\n",
       " 'identity_hate': 0.9807164515296038}"
      ]
     },
     "execution_count": 329,
     "metadata": {},
     "output_type": "execute_result"
    }
   ],
   "source": [
    "print(\"AUC      {:10.4f}\".format(calc_auc(test_y,test_preds)))\n",
    "print(\"Log Loss {:10.4f}\".format(calc_loss(test_y,test_preds)))\n",
    "roc_auc_score_multiclass(test_y,test_preds)"
   ]
  },
  {
   "cell_type": "code",
   "execution_count": 330,
   "metadata": {},
   "outputs": [
    {
     "name": "stdout",
     "output_type": "stream",
     "text": [
      "2000/2000 [==============================] - 23s 12ms/step - loss: 0.0754 - accuracy: 0.9966\n"
     ]
    },
    {
     "data": {
      "text/plain": [
       "[0.07540770620107651, 0.9966394901275635]"
      ]
     },
     "execution_count": 330,
     "metadata": {},
     "output_type": "execute_result"
    }
   ],
   "source": [
    "model.evaluate(enc_data,test_y)"
   ]
  },
  {
   "cell_type": "markdown",
   "metadata": {},
   "source": [
    "### Per Class Stats"
   ]
  },
  {
   "cell_type": "code",
   "execution_count": 331,
   "metadata": {},
   "outputs": [],
   "source": [
    "from sklearn.metrics import accuracy_score, roc_curve, auc\n",
    "\n",
    "def evaluate_roc(y_true, y_pred):\n",
    "    \"\"\"\n",
    "    - Print AUC and accuracy on the test set\n",
    "    - Plot ROC\n",
    "    @params    y_true (np.array): a multi-class array of the true values with shape (len(y_true),num_classes)\n",
    "    @params    y_pred (np.array): a multi-class array of predicted probabilities with shape (len(y_true), num_classes)\n",
    "    \"\"\"\n",
    "    fpr = {}\n",
    "    tpr = {}\n",
    "    threshold = {}\n",
    "    roc_auc = {}\n",
    "    accuracy = {}\n",
    "    for i,label in enumerate(labels):\n",
    "        fpr[label], tpr[label], threshold[label] = roc_curve(y_true[:,i], y_pred[:,i])\n",
    "        print('Stat Metrics: {}'.format(label))\n",
    "        roc_auc[label] = auc(fpr[label], tpr[label])\n",
    "        print(f'AUC: {roc_auc[label]:.4f}')\n",
    "\n",
    "        # Get accuracy over the test set\n",
    "        y_delt = np.where(y_pred[:,i] >= 0.5, 1, 0)\n",
    "        accuracy = accuracy_score(y_true[:,i], y_delt)\n",
    "        print(f'Accuracy: {accuracy*100:.2f}%')\n",
    "\n",
    "        # Plot ROC AUC\n",
    "        plt.title('Receiver Operating Characteristic: {}'.format(label))\n",
    "        plt.plot(fpr[label], tpr[label], 'b', label = 'AUC = %0.2f' % roc_auc[label])\n",
    "        plt.legend(loc = 'lower right')\n",
    "        plt.plot([0, 1], [0, 1],'r--')\n",
    "        plt.xlim([0, 1])\n",
    "        plt.ylim([0, 1])\n",
    "        plt.ylabel('True Positive Rate')\n",
    "        plt.xlabel('False Positive Rate')\n",
    "        plt.show()"
   ]
  },
  {
   "cell_type": "code",
   "execution_count": 332,
   "metadata": {
    "scrolled": false
   },
   "outputs": [
    {
     "ename": "TypeError",
     "evalue": "unhashable type: 'numpy.ndarray'",
     "output_type": "error",
     "traceback": [
      "\u001b[1;31m---------------------------------------------------------------------------\u001b[0m",
      "\u001b[1;31mTypeError\u001b[0m                                 Traceback (most recent call last)",
      "\u001b[1;32m<ipython-input-332-7407dbd05f40>\u001b[0m in \u001b[0;36m<module>\u001b[1;34m\u001b[0m\n\u001b[1;32m----> 1\u001b[1;33m \u001b[0mevaluate_roc\u001b[0m\u001b[1;33m(\u001b[0m\u001b[0mtest_y\u001b[0m\u001b[1;33m,\u001b[0m\u001b[0mtest_preds\u001b[0m\u001b[1;33m)\u001b[0m\u001b[1;33m\u001b[0m\u001b[0m\n\u001b[0m",
      "\u001b[1;32m<ipython-input-331-b705334721d5>\u001b[0m in \u001b[0;36mevaluate_roc\u001b[1;34m(y_true, y_pred)\u001b[0m\n\u001b[0;32m     14\u001b[0m     \u001b[0maccuracy\u001b[0m \u001b[1;33m=\u001b[0m \u001b[1;33m{\u001b[0m\u001b[1;33m}\u001b[0m\u001b[1;33m\u001b[0m\u001b[0m\n\u001b[0;32m     15\u001b[0m     \u001b[1;32mfor\u001b[0m \u001b[0mi\u001b[0m\u001b[1;33m,\u001b[0m\u001b[0mlabel\u001b[0m \u001b[1;32min\u001b[0m \u001b[0menumerate\u001b[0m\u001b[1;33m(\u001b[0m\u001b[0mlabels\u001b[0m\u001b[1;33m)\u001b[0m\u001b[1;33m:\u001b[0m\u001b[1;33m\u001b[0m\u001b[0m\n\u001b[1;32m---> 16\u001b[1;33m         \u001b[0mfpr\u001b[0m\u001b[1;33m[\u001b[0m\u001b[0mlabel\u001b[0m\u001b[1;33m]\u001b[0m\u001b[1;33m,\u001b[0m \u001b[0mtpr\u001b[0m\u001b[1;33m[\u001b[0m\u001b[0mlabel\u001b[0m\u001b[1;33m]\u001b[0m\u001b[1;33m,\u001b[0m \u001b[0mthreshold\u001b[0m\u001b[1;33m[\u001b[0m\u001b[0mlabel\u001b[0m\u001b[1;33m]\u001b[0m \u001b[1;33m=\u001b[0m \u001b[0mroc_curve\u001b[0m\u001b[1;33m(\u001b[0m\u001b[0my_true\u001b[0m\u001b[1;33m[\u001b[0m\u001b[1;33m:\u001b[0m\u001b[1;33m,\u001b[0m\u001b[0mi\u001b[0m\u001b[1;33m]\u001b[0m\u001b[1;33m,\u001b[0m \u001b[0my_pred\u001b[0m\u001b[1;33m[\u001b[0m\u001b[1;33m:\u001b[0m\u001b[1;33m,\u001b[0m\u001b[0mi\u001b[0m\u001b[1;33m]\u001b[0m\u001b[1;33m)\u001b[0m\u001b[1;33m\u001b[0m\u001b[0m\n\u001b[0m\u001b[0;32m     17\u001b[0m         \u001b[0mprint\u001b[0m\u001b[1;33m(\u001b[0m\u001b[1;34m'Stat Metrics: {}'\u001b[0m\u001b[1;33m.\u001b[0m\u001b[0mformat\u001b[0m\u001b[1;33m(\u001b[0m\u001b[0mlabel\u001b[0m\u001b[1;33m)\u001b[0m\u001b[1;33m)\u001b[0m\u001b[1;33m\u001b[0m\u001b[0m\n\u001b[0;32m     18\u001b[0m         \u001b[0mroc_auc\u001b[0m\u001b[1;33m[\u001b[0m\u001b[0mlabel\u001b[0m\u001b[1;33m]\u001b[0m \u001b[1;33m=\u001b[0m \u001b[0mauc\u001b[0m\u001b[1;33m(\u001b[0m\u001b[0mfpr\u001b[0m\u001b[1;33m[\u001b[0m\u001b[0mlabel\u001b[0m\u001b[1;33m]\u001b[0m\u001b[1;33m,\u001b[0m \u001b[0mtpr\u001b[0m\u001b[1;33m[\u001b[0m\u001b[0mlabel\u001b[0m\u001b[1;33m]\u001b[0m\u001b[1;33m)\u001b[0m\u001b[1;33m\u001b[0m\u001b[0m\n",
      "\u001b[1;31mTypeError\u001b[0m: unhashable type: 'numpy.ndarray'"
     ]
    }
   ],
   "source": [
    "evaluate_roc(test_y,test_preds)"
   ]
  },
  {
   "cell_type": "markdown",
   "metadata": {},
   "source": [
    "### Loading Parler Data"
   ]
  },
  {
   "cell_type": "code",
   "execution_count": 15,
   "metadata": {},
   "outputs": [],
   "source": [
    "parler_df = pd.read_csv('out.zip', compression='zip', header=0, sep=',', quotechar='\"')"
   ]
  },
  {
   "cell_type": "code",
   "execution_count": 16,
   "metadata": {},
   "outputs": [],
   "source": [
    "from pandas_profiling import ProfileReport"
   ]
  },
  {
   "cell_type": "code",
   "execution_count": 17,
   "metadata": {},
   "outputs": [],
   "source": [
    "profile = ProfileReport(parler_df, title=\"Parler Profiling Report\")"
   ]
  },
  {
   "cell_type": "code",
   "execution_count": 18,
   "metadata": {},
   "outputs": [
    {
     "data": {
      "application/vnd.jupyter.widget-view+json": {
       "model_id": "0d50bb1752c84fdf86f9d615b98747e9",
       "version_major": 2,
       "version_minor": 0
      },
      "text/plain": [
       "Summarize dataset:   0%|          | 0/20 [00:00<?, ?it/s]"
      ]
     },
     "metadata": {},
     "output_type": "display_data"
    },
    {
     "data": {
      "application/vnd.jupyter.widget-view+json": {
       "model_id": "56e7510dc2024e3787e4081bcc3d39db",
       "version_major": 2,
       "version_minor": 0
      },
      "text/plain": [
       "Generate report structure:   0%|          | 0/1 [00:00<?, ?it/s]"
      ]
     },
     "metadata": {},
     "output_type": "display_data"
    },
    {
     "data": {
      "application/vnd.jupyter.widget-view+json": {
       "model_id": "",
       "version_major": 2,
       "version_minor": 0
      },
      "text/plain": [
       "Render widgets:   0%|          | 0/1 [00:00<?, ?it/s]"
      ]
     },
     "metadata": {},
     "output_type": "display_data"
    },
    {
     "data": {
      "application/vnd.jupyter.widget-view+json": {
       "model_id": "46fbe912deb1467cb89b85ac7103f221",
       "version_major": 2,
       "version_minor": 0
      },
      "text/plain": [
       "VBox(children=(Tab(children=(Tab(children=(GridBox(children=(VBox(children=(GridspecLayout(children=(HTML(valu…"
      ]
     },
     "metadata": {},
     "output_type": "display_data"
    }
   ],
   "source": [
    "profile.to_widgets()\n",
    "# takes 6 mins or so"
   ]
  },
  {
   "cell_type": "code",
   "execution_count": 20,
   "metadata": {},
   "outputs": [],
   "source": [
    "parler_df = parler_df.dropna()\n",
    "parler_df = parler_df.drop_duplicates(subset=['post_text'])\n",
    "#df_inf = df_inf.reset_index(drop=True)"
   ]
  },
  {
   "cell_type": "code",
   "execution_count": 21,
   "metadata": {
    "collapsed": true
   },
   "outputs": [
    {
     "data": {
      "text/html": [
       "<div>\n",
       "<style scoped>\n",
       "    .dataframe tbody tr th:only-of-type {\n",
       "        vertical-align: middle;\n",
       "    }\n",
       "\n",
       "    .dataframe tbody tr th {\n",
       "        vertical-align: top;\n",
       "    }\n",
       "\n",
       "    .dataframe thead th {\n",
       "        text-align: right;\n",
       "    }\n",
       "</style>\n",
       "<table border=\"1\" class=\"dataframe\">\n",
       "  <thead>\n",
       "    <tr style=\"text-align: right;\">\n",
       "      <th></th>\n",
       "      <th>author_name</th>\n",
       "      <th>author_username</th>\n",
       "      <th>author_profile_photo</th>\n",
       "      <th>post_text</th>\n",
       "      <th>post_image</th>\n",
       "      <th>post_timestamp</th>\n",
       "      <th>post_impressions</th>\n",
       "    </tr>\n",
       "  </thead>\n",
       "  <tbody>\n",
       "    <tr>\n",
       "      <th>47941</th>\n",
       "      <td>Truth4Americans</td>\n",
       "      <td>@David52</td>\n",
       "      <td>https://images.parler.com/5e9347927d3f43f3ab9276b58d6037b3_256</td>\n",
       "      <td>Could not be more clear</td>\n",
       "      <td>https://api.parler.com/l/mJbTY</td>\n",
       "      <td>5 days ago</td>\n",
       "      <td>22,804.00</td>\n",
       "    </tr>\n",
       "    <tr>\n",
       "      <th>47942</th>\n",
       "      <td>David Vance</td>\n",
       "      <td>@DavidVance</td>\n",
       "      <td>https://images.parler.com/dc63e4422a2f442495670d1dabe7d6f5_256</td>\n",
       "      <td>Seen THIS?</td>\n",
       "      <td>https://api.parler.com/l/wPSf6i</td>\n",
       "      <td>4 days ago</td>\n",
       "      <td>112,283.00</td>\n",
       "    </tr>\n",
       "    <tr>\n",
       "      <th>47943</th>\n",
       "      <td>Name Hidden</td>\n",
       "      <td>@Private User</td>\n",
       "      <td>https://company-media.parler.com/par-default-profile-picture.jpg</td>\n",
       "      <td>Please share this photo. This women assaulted a Trump supporter busting her eye open and ran away. She was wearing an “Admiral Security Services” jacket so it seems she works for them. The closest Admiral Security places in DC are either in Bethesda, MD or Baltimore, MD</td>\n",
       "      <td>https://api.parler.com/l/QDxIr</td>\n",
       "      <td>5 days ago</td>\n",
       "      <td>311,964.00</td>\n",
       "    </tr>\n",
       "    <tr>\n",
       "      <th>47946</th>\n",
       "      <td>Sunstepan</td>\n",
       "      <td>@Sunstepan</td>\n",
       "      <td>https://images.parler.com/e83211ff673b47dabb7b63d2562064a9_256</td>\n",
       "      <td>Os brasileiros estão assim... Acorda povo...</td>\n",
       "      <td>https://api.parler.com/l/NRS22</td>\n",
       "      <td>4 days ago</td>\n",
       "      <td>208.00</td>\n",
       "    </tr>\n",
       "    <tr>\n",
       "      <th>47947</th>\n",
       "      <td>KAGBABE</td>\n",
       "      <td>@kagbabe</td>\n",
       "      <td>https://images.parler.com/58d4de64b5204d28a975127e0489f853_256</td>\n",
       "      <td>Last screen shot before bed, also fuck Brian Kemp, Brad Raffensperger, Gabriel Sterling, Geoff Duncan and every single RINO</td>\n",
       "      <td>https://api.parler.com/l/imZUJ</td>\n",
       "      <td>4 days ago</td>\n",
       "      <td>19,300.00</td>\n",
       "    </tr>\n",
       "    <tr>\n",
       "      <th>...</th>\n",
       "      <td>...</td>\n",
       "      <td>...</td>\n",
       "      <td>...</td>\n",
       "      <td>...</td>\n",
       "      <td>...</td>\n",
       "      <td>...</td>\n",
       "      <td>...</td>\n",
       "    </tr>\n",
       "    <tr>\n",
       "      <th>1854089</th>\n",
       "      <td>Sasquatch1791</td>\n",
       "      <td>@sasquatch1791</td>\n",
       "      <td>https://images.parler.com/45af781537244849a689693e5fb7e18c_256</td>\n",
       "      <td>#jihadoncapitolhill #stormthecapitol #memes #funny #humor #2021 #fallout #falloutnewvegas #fallout NV #gaming</td>\n",
       "      <td>https://api.parler.com/l/uybeU</td>\n",
       "      <td>4 days ago</td>\n",
       "      <td>2,067.00</td>\n",
       "    </tr>\n",
       "    <tr>\n",
       "      <th>1854196</th>\n",
       "      <td>SteveDeace</td>\n",
       "      <td>@SteveDeace</td>\n",
       "      <td>https://images.parler.com/9c920e26468544edbb4aee3b1dcee54c_256</td>\n",
       "      <td>Who did this?</td>\n",
       "      <td>https://api.parler.com/l/JP2p3</td>\n",
       "      <td>1 month ago</td>\n",
       "      <td>62,855.00</td>\n",
       "    </tr>\n",
       "    <tr>\n",
       "      <th>1854250</th>\n",
       "      <td>BlackRant</td>\n",
       "      <td>@BlackRant</td>\n",
       "      <td>https://images.parler.com/51197c9c22cb43c680e1746f9329d1b3_256</td>\n",
       "      <td>That’s why we have problems we have today with Bill Gates and the “Great Reset”. The Nazis weren’t ended, just rebranded.</td>\n",
       "      <td>https://api.parler.com/l/QWmMQ</td>\n",
       "      <td>5 days ago</td>\n",
       "      <td>607.00</td>\n",
       "    </tr>\n",
       "    <tr>\n",
       "      <th>1854260</th>\n",
       "      <td>Emikko39</td>\n",
       "      <td>@Emikko39</td>\n",
       "      <td>https://images.parler.com/d1003667ac984cff98ff051c65dc22f8_256</td>\n",
       "      <td>I made it!Hang in there!#maga</td>\n",
       "      <td>https://api.parler.com/l/Xk0Io</td>\n",
       "      <td>4 days ago</td>\n",
       "      <td>193.00</td>\n",
       "    </tr>\n",
       "    <tr>\n",
       "      <th>1854268</th>\n",
       "      <td>SamuelJesusBolsonaro</td>\n",
       "      <td>@SamuelJesusBolsonaro</td>\n",
       "      <td>https://images.parler.com/2cb72f56f40f41ac94ca7a6db1c339cb_256</td>\n",
       "      <td>@claudiawild</td>\n",
       "      <td>https://api.parler.com/l/JuCrC</td>\n",
       "      <td>4 days ago</td>\n",
       "      <td>18.00</td>\n",
       "    </tr>\n",
       "  </tbody>\n",
       "</table>\n",
       "<p>47691 rows × 7 columns</p>\n",
       "</div>"
      ],
      "text/plain": [
       "                  author_name        author_username                                              author_profile_photo                                                                                                                                                                                                                                                                       post_text                       post_image post_timestamp     post_impressions\n",
       "47941    Truth4Americans       @David52               https://images.parler.com/5e9347927d3f43f3ab9276b58d6037b3_256    Could not be more clear                                                                                                                                                                                                                                                         https://api.parler.com/l/mJbTY   5 days ago               22,804.00\n",
       "47942    David Vance           @DavidVance            https://images.parler.com/dc63e4422a2f442495670d1dabe7d6f5_256    Seen THIS?                                                                                                                                                                                                                                                                      https://api.parler.com/l/wPSf6i  4 days ago              112,283.00\n",
       "47943    Name Hidden           @Private User          https://company-media.parler.com/par-default-profile-picture.jpg  Please share this photo. This women assaulted a Trump supporter busting her eye open and ran away. She was wearing an “Admiral Security Services” jacket so it seems she works for them. The closest Admiral Security places in DC are either in Bethesda, MD or Baltimore, MD  https://api.parler.com/l/QDxIr   5 days ago              311,964.00\n",
       "47946    Sunstepan             @Sunstepan             https://images.parler.com/e83211ff673b47dabb7b63d2562064a9_256    Os brasileiros estão assim... Acorda povo...                                                                                                                                                                                                                                    https://api.parler.com/l/NRS22   4 days ago                  208.00\n",
       "47947    KAGBABE               @kagbabe               https://images.parler.com/58d4de64b5204d28a975127e0489f853_256    Last screen shot before bed, also fuck Brian Kemp, Brad Raffensperger, Gabriel Sterling, Geoff Duncan and every single RINO                                                                                                                                                     https://api.parler.com/l/imZUJ   4 days ago               19,300.00\n",
       "...          ...                    ...                                                                          ...                                                                                                                            ...                                                                                                                                                                                ...          ...                     ...\n",
       "1854089  Sasquatch1791         @sasquatch1791         https://images.parler.com/45af781537244849a689693e5fb7e18c_256    #jihadoncapitolhill #stormthecapitol #memes #funny #humor #2021 #fallout #falloutnewvegas #fallout NV #gaming                                                                                                                                                                   https://api.parler.com/l/uybeU   4 days ago                2,067.00\n",
       "1854196  SteveDeace            @SteveDeace            https://images.parler.com/9c920e26468544edbb4aee3b1dcee54c_256    Who did this?                                                                                                                                                                                                                                                                   https://api.parler.com/l/JP2p3   1 month ago              62,855.00\n",
       "1854250  BlackRant             @BlackRant             https://images.parler.com/51197c9c22cb43c680e1746f9329d1b3_256    That’s why we have problems we have today with Bill Gates and the “Great Reset”. The Nazis weren’t ended, just rebranded.                                                                                                                                                       https://api.parler.com/l/QWmMQ   5 days ago                  607.00\n",
       "1854260  Emikko39              @Emikko39              https://images.parler.com/d1003667ac984cff98ff051c65dc22f8_256    I made it!Hang in there!#maga                                                                                                                                                                                                                                                   https://api.parler.com/l/Xk0Io   4 days ago                  193.00\n",
       "1854268  SamuelJesusBolsonaro  @SamuelJesusBolsonaro  https://images.parler.com/2cb72f56f40f41ac94ca7a6db1c339cb_256    @claudiawild                                                                                                                                                                                                                                                                    https://api.parler.com/l/JuCrC   4 days ago                   18.00\n",
       "\n",
       "[47691 rows x 7 columns]"
      ]
     },
     "execution_count": 21,
     "metadata": {},
     "output_type": "execute_result"
    }
   ],
   "source": [
    "parler_df"
   ]
  },
  {
   "cell_type": "code",
   "execution_count": null,
   "metadata": {},
   "outputs": [],
   "source": [
    "df_inf = parler_df.sort_values(by=['post_impressions'], ascending=False, na_position='last')[:20000]\n",
    "df_inf = df_inf.reset_index(drop=True)"
   ]
  },
  {
   "cell_type": "code",
   "execution_count": 22,
   "metadata": {},
   "outputs": [],
   "source": [
    "# Cleanse post text\n",
    "# cleansed_post_text = df_inf.apply(lambda x: clean_text(x.post_text), axis=1)\n",
    "\n",
    "# read in saved cleansed parler text as a list\n",
    "\n",
    "cleansed_parler_text = []\n",
    "# open file and read the cleansed texts\n",
    "with open('text_files/cleansed_parler.txt', 'r', encoding=\"utf-8\") as filehandle:\n",
    "    filecontents = filehandle.readlines()\n",
    "    for line in filecontents:\n",
    "        # remove linebreak which is the last character of the string\n",
    "        current_place = line[:-1]\n",
    "        # add item to the list\n",
    "        cleansed_parler_text.append(current_place)"
   ]
  },
  {
   "cell_type": "code",
   "execution_count": 24,
   "metadata": {},
   "outputs": [
    {
     "data": {
      "text/plain": [
       "47691"
      ]
     },
     "execution_count": 24,
     "metadata": {},
     "output_type": "execute_result"
    }
   ],
   "source": [
    "len(cleansed_parler_text)"
   ]
  },
  {
   "cell_type": "code",
   "execution_count": 26,
   "metadata": {},
   "outputs": [
    {
     "name": "stdout",
     "output_type": "stream",
     "text": [
      "Sample inference data:  america home brave america home strong begun fight want push us dems doomed freedom americabecausefuckyou warriors fight dosomething nofear win\n"
     ]
    }
   ],
   "source": [
    "print('Sample inference data:', cleansed_parler_text[6])"
   ]
  },
  {
   "cell_type": "code",
   "execution_count": 27,
   "metadata": {},
   "outputs": [],
   "source": [
    "encoded_input = tokenizer.texts_to_sequences(cleansed_parler_text)"
   ]
  },
  {
   "cell_type": "code",
   "execution_count": 28,
   "metadata": {},
   "outputs": [
    {
     "data": {
      "text/plain": [
       "47691"
      ]
     },
     "execution_count": 28,
     "metadata": {},
     "output_type": "execute_result"
    }
   ],
   "source": [
    "len(encoded_input)"
   ]
  },
  {
   "cell_type": "code",
   "execution_count": 29,
   "metadata": {},
   "outputs": [],
   "source": [
    "enc_data = pad_sequences(encoded_input, padding = 'post', maxlen = MAX_SEQUENCE_LENGTH)"
   ]
  },
  {
   "cell_type": "code",
   "execution_count": 32,
   "metadata": {},
   "outputs": [],
   "source": [
    "model_tc_twittervecs = tf.keras.models.load_model('models/toxic-classifier/tc-gpu-v0.05-200emb.hdf5')"
   ]
  },
  {
   "cell_type": "code",
   "execution_count": 33,
   "metadata": {
    "collapsed": true
   },
   "outputs": [
    {
     "name": "stdout",
     "output_type": "stream",
     "text": [
      "Model: \"model_2\"\n",
      "_________________________________________________________________\n",
      "Layer (type)                 Output Shape              Param #   \n",
      "=================================================================\n",
      "input_3 (InputLayer)         [(None, 200)]             0         \n",
      "_________________________________________________________________\n",
      "embeddings (Embedding)       (None, 200, 200)          41509400  \n",
      "_________________________________________________________________\n",
      "lstm_layer (LSTM)            (None, 200, 60)           62640     \n",
      "_________________________________________________________________\n",
      "global_max_pooling1d_2 (Glob (None, 60)                0         \n",
      "_________________________________________________________________\n",
      "dropout_4 (Dropout)          (None, 60)                0         \n",
      "_________________________________________________________________\n",
      "dense_4 (Dense)              (None, 50)                3050      \n",
      "_________________________________________________________________\n",
      "dropout_5 (Dropout)          (None, 50)                0         \n",
      "_________________________________________________________________\n",
      "dense_5 (Dense)              (None, 6)                 306       \n",
      "=================================================================\n",
      "Total params: 41,575,396\n",
      "Trainable params: 65,996\n",
      "Non-trainable params: 41,509,400\n",
      "_________________________________________________________________\n"
     ]
    }
   ],
   "source": [
    "model_tc_twittervecs.summary()"
   ]
  },
  {
   "cell_type": "code",
   "execution_count": 34,
   "metadata": {},
   "outputs": [
    {
     "name": "stdout",
     "output_type": "stream",
     "text": [
      "WARNING:tensorflow:AutoGraph could not transform <function Model.make_predict_function.<locals>.predict_function at 0x0000027FC4845E18> and will run it as-is.\n",
      "Please report this to the TensorFlow team. When filing the bug, set the verbosity to 10 (on Linux, `export AUTOGRAPH_VERBOSITY=10`) and attach the full output.\n",
      "Cause: 'arguments' object has no attribute 'posonlyargs'\n",
      "To silence this warning, decorate the function with @tf.autograph.experimental.do_not_convert\n",
      "WARNING: AutoGraph could not transform <function Model.make_predict_function.<locals>.predict_function at 0x0000027FC4845E18> and will run it as-is.\n",
      "Please report this to the TensorFlow team. When filing the bug, set the verbosity to 10 (on Linux, `export AUTOGRAPH_VERBOSITY=10`) and attach the full output.\n",
      "Cause: 'arguments' object has no attribute 'posonlyargs'\n",
      "To silence this warning, decorate the function with @tf.autograph.experimental.do_not_convert\n"
     ]
    }
   ],
   "source": [
    "inf_results = model_tc_twittervecs.predict(enc_data)"
   ]
  },
  {
   "cell_type": "code",
   "execution_count": 35,
   "metadata": {
    "scrolled": true
   },
   "outputs": [
    {
     "data": {
      "text/plain": [
       "47691"
      ]
     },
     "execution_count": 35,
     "metadata": {},
     "output_type": "execute_result"
    }
   ],
   "source": [
    "len(inf_results)"
   ]
  },
  {
   "cell_type": "markdown",
   "metadata": {},
   "source": [
    "### Adding Prediction Labels to parler df"
   ]
  },
  {
   "cell_type": "code",
   "execution_count": 38,
   "metadata": {},
   "outputs": [],
   "source": [
    "pred_labels = ['toxic', 'severe_toxic', 'obscene', 'threat', 'insult', 'identity_hate']"
   ]
  },
  {
   "cell_type": "code",
   "execution_count": 45,
   "metadata": {},
   "outputs": [],
   "source": [
    "parler_df = parler_df.reset_index(drop=True)\n",
    "for i, result_array in enumerate(inf_results):\n",
    "    for j,label in enumerate(pred_labels):\n",
    "        parler_df.at[i,label] = result_array[j]\n",
    "        #df_inf.set_value(i,label , result_array[j])"
   ]
  },
  {
   "cell_type": "markdown",
   "metadata": {},
   "source": [
    "### Eyeballing Results of inference\n",
    "\n",
    "Warning: The text in this data contains graphic content and may be upsetting to some people.\n",
    "In light of this, sorting by least toxic of the labels in order to spot false positives may be a more palatable strategy"
   ]
  },
  {
   "cell_type": "code",
   "execution_count": 52,
   "metadata": {
    "scrolled": false
   },
   "outputs": [],
   "source": [
    "view = parler_df.sort_values(by=pred_labels, ascending=True, na_position='last')[['author_name','post_text','post_impressions','toxic', 'severe_toxic', 'obscene', 'threat', 'insult', 'identity_hate']][:200]"
   ]
  },
  {
   "cell_type": "code",
   "execution_count": 53,
   "metadata": {
    "scrolled": true
   },
   "outputs": [
    {
     "data": {
      "text/html": [
       "<div>\n",
       "<style scoped>\n",
       "    .dataframe tbody tr th:only-of-type {\n",
       "        vertical-align: middle;\n",
       "    }\n",
       "\n",
       "    .dataframe tbody tr th {\n",
       "        vertical-align: top;\n",
       "    }\n",
       "\n",
       "    .dataframe thead th {\n",
       "        text-align: right;\n",
       "    }\n",
       "</style>\n",
       "<table border=\"1\" class=\"dataframe\">\n",
       "  <thead>\n",
       "    <tr style=\"text-align: right;\">\n",
       "      <th></th>\n",
       "      <th>author_name</th>\n",
       "      <th>post_text</th>\n",
       "      <th>post_impressions</th>\n",
       "      <th>toxic</th>\n",
       "      <th>severe_toxic</th>\n",
       "      <th>obscene</th>\n",
       "      <th>threat</th>\n",
       "      <th>insult</th>\n",
       "      <th>identity_hate</th>\n",
       "    </tr>\n",
       "  </thead>\n",
       "  <tbody>\n",
       "    <tr>\n",
       "      <th>47256</th>\n",
       "      <td>Bill Mitchell • Save the Republic!</td>\n",
       "      <td>When all the votes in Fulton and DeKalb Counties are counted, they will have almost as many votes in a Special Election as in a Presidential Election!</td>\n",
       "      <td>40,953.00</td>\n",
       "      <td>0.00</td>\n",
       "      <td>0.00</td>\n",
       "      <td>0.00</td>\n",
       "      <td>0.00</td>\n",
       "      <td>0.00</td>\n",
       "      <td>0.00</td>\n",
       "    </tr>\n",
       "    <tr>\n",
       "      <th>13089</th>\n",
       "      <td>Jpjoynson</td>\n",
       "      <td>Once again if you try to share a picture of a document from the Senate of Pennsylvania saying that there was indeed Election Irregularities Facebook won't let you share that to Parler. I've noticed this going on for Months and it's on Conservative Posts usually and not all content only the content of certain posts. You can try and share it by the copy option in the top right or copy to clipboard, share to Parler or even try to copy to Gmail then copy and paste the link there and bring it in to Parler all fail. It will either say redirecting or Log In To Facebook. Everyone start looking to see if this is actually the case for others please. Thanks!</td>\n",
       "      <td>1,180.00</td>\n",
       "      <td>0.00</td>\n",
       "      <td>0.00</td>\n",
       "      <td>0.00</td>\n",
       "      <td>0.00</td>\n",
       "      <td>0.00</td>\n",
       "      <td>0.00</td>\n",
       "    </tr>\n",
       "    <tr>\n",
       "      <th>40962</th>\n",
       "      <td>MABVET</td>\n",
       "      <td>Thread by @KanekoaTheGreat on Thread Reader App – Thread Reader App On Italygate interference in US election</td>\n",
       "      <td>301.00</td>\n",
       "      <td>0.00</td>\n",
       "      <td>0.00</td>\n",
       "      <td>0.00</td>\n",
       "      <td>0.00</td>\n",
       "      <td>0.00</td>\n",
       "      <td>0.00</td>\n",
       "    </tr>\n",
       "    <tr>\n",
       "      <th>3151</th>\n",
       "      <td>Danny C</td>\n",
       "      <td>IS THIS THE ONLY DATE IN THE US CONSTITUTION THAT IS FINAL? 🐸 WWG1WGA The Twentieth Amendment (Amendment XX) to the United States Constitution moved the beginning and ending of the terms of the president and vice president from March 4 to January 20, and of members of Congress from March 4 to January 3.</td>\n",
       "      <td>1,784.00</td>\n",
       "      <td>0.00</td>\n",
       "      <td>0.00</td>\n",
       "      <td>0.00</td>\n",
       "      <td>0.00</td>\n",
       "      <td>0.00</td>\n",
       "      <td>0.00</td>\n",
       "    </tr>\n",
       "    <tr>\n",
       "      <th>26285</th>\n",
       "      <td>Yoda</td>\n",
       "      <td>Posts circulating on social media allege that “only 133 million registered voters voted” to falsely claim that the number of votes cast for Joe Biden is not mathematically possible. The calculation on which this claim is based on is misleading. The nationwide voter turnout is usually calculated using the eligible-voting population as a denominator, not the number of registered voters. Around 239,247,182 people were eligible to vote in 2020. While there is no available figure yet for nationwide registered voters for 2020, Reuters calculations found there were an estimated 206,557,583 registered voters as of the publication of this article.Published 1 Jan 2021</td>\n",
       "      <td>1,122.00</td>\n",
       "      <td>0.00</td>\n",
       "      <td>0.00</td>\n",
       "      <td>0.00</td>\n",
       "      <td>0.00</td>\n",
       "      <td>0.00</td>\n",
       "      <td>0.00</td>\n",
       "    </tr>\n",
       "    <tr>\n",
       "      <th>...</th>\n",
       "      <td>...</td>\n",
       "      <td>...</td>\n",
       "      <td>...</td>\n",
       "      <td>...</td>\n",
       "      <td>...</td>\n",
       "      <td>...</td>\n",
       "      <td>...</td>\n",
       "      <td>...</td>\n",
       "      <td>...</td>\n",
       "    </tr>\n",
       "    <tr>\n",
       "      <th>22880</th>\n",
       "      <td>Blessing Joseph</td>\n",
       "      <td>All this people came out for Trump the legitimate winner of U.S. presidential election. Pro Trump #stopthecoup #stopthesteal protests is ongoing now in Washington D.C. The main Protest will be starting tomorrow against the rigging of united state presidential election.Not even one third of this population has ever turn up for Biden once since 1947 he came in to politics.</td>\n",
       "      <td>580.00</td>\n",
       "      <td>0.00</td>\n",
       "      <td>0.00</td>\n",
       "      <td>0.00</td>\n",
       "      <td>0.00</td>\n",
       "      <td>0.00</td>\n",
       "      <td>0.00</td>\n",
       "    </tr>\n",
       "    <tr>\n",
       "      <th>45994</th>\n",
       "      <td>Name Hidden</td>\n",
       "      <td>The important item in this photo is the parking sign. The key words are VIRGIN BEACH DEVELOPMENT AUTHORITY. I'll explain next post...</td>\n",
       "      <td>6.00</td>\n",
       "      <td>0.00</td>\n",
       "      <td>0.00</td>\n",
       "      <td>0.00</td>\n",
       "      <td>0.00</td>\n",
       "      <td>0.00</td>\n",
       "      <td>0.00</td>\n",
       "    </tr>\n",
       "    <tr>\n",
       "      <th>20143</th>\n",
       "      <td>Activated</td>\n",
       "      <td>A few hours ago, the President's and head of social media, Dan Scavino, posted this cryptic photograph, with three words (\"sir\", \"game,\" \"activation\") under three people, respectively: the one who appears to be the vice president , a cabinet member with a computer, and Trump himself. We could infer that the President has activated the game, and that game has to do with the traitorous vice president, who appears obscured, and in the background. Attention to the following messages from the secretary of state, Pompeo.</td>\n",
       "      <td>3,568.00</td>\n",
       "      <td>0.00</td>\n",
       "      <td>0.00</td>\n",
       "      <td>0.00</td>\n",
       "      <td>0.00</td>\n",
       "      <td>0.00</td>\n",
       "      <td>0.00</td>\n",
       "    </tr>\n",
       "    <tr>\n",
       "      <th>26768</th>\n",
       "      <td>RSBN 🇺🇸</td>\n",
       "      <td>Good Morning from Carson City, NV. Join us later today at 12pm for a ‘Trump Campaign and Nevada Republican Presidential Electors Major Announcement’. 🎥 #rightsidebroadcastingnetwork #nevadaelection #trump2020</td>\n",
       "      <td>213,689.00</td>\n",
       "      <td>0.00</td>\n",
       "      <td>0.00</td>\n",
       "      <td>0.00</td>\n",
       "      <td>0.00</td>\n",
       "      <td>0.00</td>\n",
       "      <td>0.00</td>\n",
       "    </tr>\n",
       "    <tr>\n",
       "      <th>8812</th>\n",
       "      <td>Danny C</td>\n",
       "      <td>THIS IS GOOD ❤️🙏❤️The Pennsylvania Senate sent the following letter we will make sure @VP and @Name Hidden receive. @RepScottPerryWWG1WGA🐸PLEASE SHARE</td>\n",
       "      <td>3,786.00</td>\n",
       "      <td>0.00</td>\n",
       "      <td>0.00</td>\n",
       "      <td>0.00</td>\n",
       "      <td>0.00</td>\n",
       "      <td>0.00</td>\n",
       "      <td>0.00</td>\n",
       "    </tr>\n",
       "  </tbody>\n",
       "</table>\n",
       "<p>200 rows × 9 columns</p>\n",
       "</div>"
      ],
      "text/plain": [
       "                              author_name                                                                                                                                                                                                                                                                                                                                                                                                                                                                                                                                                                                                                                                                                   post_text     post_impressions                toxic         severe_toxic              obscene               threat               insult        identity_hate\n",
       "47256  Bill Mitchell • Save the Republic!  When all the votes in Fulton and DeKalb Counties are counted, they will have almost as many votes in a Special Election as in a Presidential Election!                                                                                                                                                                                                                                                                                                                                                                                                                                                                                                                                                40,953.00                 0.00                 0.00                 0.00                 0.00                 0.00                 0.00\n",
       "13089  Jpjoynson                           Once again if you try to share a picture of a document from the Senate of Pennsylvania saying that there was indeed Election Irregularities Facebook won't let you share that to Parler. I've noticed this going on for Months and it's on Conservative Posts usually and not all content only the content of certain posts. You can try and share it by the copy option in the top right or copy to clipboard, share to Parler or even try to copy to Gmail then copy and paste the link there and bring it in to Parler all fail. It will either say redirecting or Log In To Facebook. Everyone start looking to see if this is actually the case for others please. Thanks!                        1,180.00                 0.00                 0.00                 0.00                 0.00                 0.00                 0.00\n",
       "40962  MABVET                              Thread by @KanekoaTheGreat on Thread Reader App – Thread Reader App On Italygate interference in US election                                                                                                                                                                                                                                                                                                                                                                                                                                                                                                                                                                                             301.00                 0.00                 0.00                 0.00                 0.00                 0.00                 0.00\n",
       "3151   Danny C                             IS THIS THE ONLY DATE IN THE US CONSTITUTION THAT IS FINAL? 🐸 WWG1WGA The Twentieth Amendment (Amendment XX) to the United States Constitution moved the beginning and ending of the terms of the president and vice president from March 4 to January 20, and of members of Congress from March 4 to January 3.                                                                                                                                                                                                                                                                                                                                                                                       1,784.00                 0.00                 0.00                 0.00                 0.00                 0.00                 0.00\n",
       "26285  Yoda                                Posts circulating on social media allege that “only 133 million registered voters voted” to falsely claim that the number of votes cast for Joe Biden is not mathematically possible. The calculation on which this claim is based on is misleading. The nationwide voter turnout is usually calculated using the eligible-voting population as a denominator, not the number of registered voters. Around 239,247,182 people were eligible to vote in 2020. While there is no available figure yet for nationwide registered voters for 2020, Reuters calculations found there were an estimated 206,557,583 registered voters as of the publication of this article.Published 1 Jan 2021             1,122.00                 0.00                 0.00                 0.00                 0.00                 0.00                 0.00\n",
       "...     ...                                                                                                                                                                                                                                                                                                                                                                                                                                                                                                                                                                                                                                                                                                                       ...                  ...                  ...                  ...                  ...                  ...                  ...                  ...\n",
       "22880  Blessing Joseph                     All this people came out for Trump the legitimate winner of U.S. presidential election. Pro Trump #stopthecoup #stopthesteal protests is ongoing now in Washington D.C. The main Protest will be starting tomorrow against the rigging of united state presidential election.Not even one third of this population has ever turn up for Biden once since 1947 he came in to politics.                                                                                                                                                                                                                                                                                                                    580.00                 0.00                 0.00                 0.00                 0.00                 0.00                 0.00\n",
       "45994  Name Hidden                         The important item in this photo is the parking sign. The key words are VIRGIN BEACH DEVELOPMENT AUTHORITY. I'll explain next post...                                                                                                                                                                                                                                                                                                                                                                                                                                                                                                                                                                      6.00                 0.00                 0.00                 0.00                 0.00                 0.00                 0.00\n",
       "20143  Activated                           A few hours ago, the President's and head of social media, Dan Scavino, posted this cryptic photograph, with three words (\"sir\", \"game,\" \"activation\") under three people, respectively: the one who appears to be the vice president , a cabinet member with a computer, and Trump himself. We could infer that the President has activated the game, and that game has to do with the traitorous vice president, who appears obscured, and in the background. Attention to the following messages from the secretary of state, Pompeo.                                                                                                                                                               3,568.00                 0.00                 0.00                 0.00                 0.00                 0.00                 0.00\n",
       "26768  RSBN 🇺🇸                             Good Morning from Carson City, NV. Join us later today at 12pm for a ‘Trump Campaign and Nevada Republican Presidential Electors Major Announcement’. 🎥 #rightsidebroadcastingnetwork #nevadaelection #trump2020                                                                                                                                                                                                                                                                                                                                                                                                                                                                                     213,689.00                 0.00                 0.00                 0.00                 0.00                 0.00                 0.00\n",
       "8812   Danny C                             THIS IS GOOD ❤️🙏❤️The Pennsylvania Senate sent the following letter we will make sure @VP and @Name Hidden receive. @RepScottPerryWWG1WGA🐸PLEASE SHARE                                                                                                                                                                                                                                                                                                                                                                                                                                                                                                                                                 3,786.00                 0.00                 0.00                 0.00                 0.00                 0.00                 0.00\n",
       "\n",
       "[200 rows x 9 columns]"
      ]
     },
     "execution_count": 53,
     "metadata": {},
     "output_type": "execute_result"
    }
   ],
   "source": [
    "view"
   ]
  },
  {
   "cell_type": "markdown",
   "metadata": {},
   "source": [
    "### Determining a threshold to create the best separation "
   ]
  },
  {
   "cell_type": "code",
   "execution_count": 201,
   "metadata": {},
   "outputs": [],
   "source": [
    "parler_threshold = parler_df[(parler_df[pred_labels] <= 0.01).all(axis=1)]"
   ]
  },
  {
   "cell_type": "code",
   "execution_count": 180,
   "metadata": {
    "scrolled": true
   },
   "outputs": [
    {
     "data": {
      "text/html": [
       "<div>\n",
       "<style scoped>\n",
       "    .dataframe tbody tr th:only-of-type {\n",
       "        vertical-align: middle;\n",
       "    }\n",
       "\n",
       "    .dataframe tbody tr th {\n",
       "        vertical-align: top;\n",
       "    }\n",
       "\n",
       "    .dataframe thead th {\n",
       "        text-align: right;\n",
       "    }\n",
       "</style>\n",
       "<table border=\"1\" class=\"dataframe\">\n",
       "  <thead>\n",
       "    <tr style=\"text-align: right;\">\n",
       "      <th></th>\n",
       "      <th>post_text</th>\n",
       "      <th>toxic</th>\n",
       "      <th>severe_toxic</th>\n",
       "      <th>obscene</th>\n",
       "      <th>threat</th>\n",
       "      <th>insult</th>\n",
       "      <th>identity_hate</th>\n",
       "    </tr>\n",
       "  </thead>\n",
       "  <tbody>\n",
       "    <tr>\n",
       "      <th>0</th>\n",
       "      <td>Could not be more clear</td>\n",
       "      <td>0.00</td>\n",
       "      <td>0.00</td>\n",
       "      <td>0.00</td>\n",
       "      <td>0.00</td>\n",
       "      <td>0.00</td>\n",
       "      <td>0.00</td>\n",
       "    </tr>\n",
       "    <tr>\n",
       "      <th>2</th>\n",
       "      <td>Please share this photo. This women assaulted a Trump supporter busting her eye open and ran away. She was wearing an “Admiral Security Services” jacket so it seems she works for them. The closest Admiral Security places in DC are either in Bethesda, MD or Baltimore, MD</td>\n",
       "      <td>0.00</td>\n",
       "      <td>0.00</td>\n",
       "      <td>0.00</td>\n",
       "      <td>0.00</td>\n",
       "      <td>0.00</td>\n",
       "      <td>0.00</td>\n",
       "    </tr>\n",
       "    <tr>\n",
       "      <th>6</th>\n",
       "      <td>America, home of the brave. America, home of the strong!We have just begun to fight. You want to push us? Dems are doomed!#freedom #Americabecausefuckyou #warriors #fight #doSomething #NOFEAR #win</td>\n",
       "      <td>0.01</td>\n",
       "      <td>0.00</td>\n",
       "      <td>0.00</td>\n",
       "      <td>0.00</td>\n",
       "      <td>0.00</td>\n",
       "      <td>0.00</td>\n",
       "    </tr>\n",
       "    <tr>\n",
       "      <th>7</th>\n",
       "      <td>Please read the message below carefully. We have ONE President at a time. Our President is Donald J. Trump.When President Trump speaks, listen carefully.</td>\n",
       "      <td>0.00</td>\n",
       "      <td>0.00</td>\n",
       "      <td>0.00</td>\n",
       "      <td>0.00</td>\n",
       "      <td>0.00</td>\n",
       "      <td>0.00</td>\n",
       "    </tr>\n",
       "    <tr>\n",
       "      <th>13</th>\n",
       "      <td>Ashli Babbitt.14 year veteranPatriotKilled at the Capitol today.</td>\n",
       "      <td>0.00</td>\n",
       "      <td>0.00</td>\n",
       "      <td>0.00</td>\n",
       "      <td>0.00</td>\n",
       "      <td>0.00</td>\n",
       "      <td>0.00</td>\n",
       "    </tr>\n",
       "    <tr>\n",
       "      <th>...</th>\n",
       "      <td>...</td>\n",
       "      <td>...</td>\n",
       "      <td>...</td>\n",
       "      <td>...</td>\n",
       "      <td>...</td>\n",
       "      <td>...</td>\n",
       "      <td>...</td>\n",
       "    </tr>\n",
       "    <tr>\n",
       "      <th>47682</th>\n",
       "      <td>Further proof that President Donald Trump won. The media is trying for a color revolution, a coup.</td>\n",
       "      <td>0.00</td>\n",
       "      <td>0.00</td>\n",
       "      <td>0.00</td>\n",
       "      <td>0.00</td>\n",
       "      <td>0.00</td>\n",
       "      <td>0.00</td>\n",
       "    </tr>\n",
       "    <tr>\n",
       "      <th>47683</th>\n",
       "      <td>The definition of insanity is doing the same thing over and over and expecting a different result. Give me a break, they use the same machines the same tactics and they got their same result. THE QUESTION IS: What are we gonna do about it</td>\n",
       "      <td>0.00</td>\n",
       "      <td>0.00</td>\n",
       "      <td>0.00</td>\n",
       "      <td>0.00</td>\n",
       "      <td>0.00</td>\n",
       "      <td>0.00</td>\n",
       "    </tr>\n",
       "    <tr>\n",
       "      <th>47685</th>\n",
       "      <td>HOLD THE LINE!!!!!! NEVER GIVE UP!!!!!!!</td>\n",
       "      <td>0.00</td>\n",
       "      <td>0.00</td>\n",
       "      <td>0.00</td>\n",
       "      <td>0.00</td>\n",
       "      <td>0.00</td>\n",
       "      <td>0.00</td>\n",
       "    </tr>\n",
       "    <tr>\n",
       "      <th>47686</th>\n",
       "      <td>#jihadoncapitolhill #stormthecapitol #memes #funny #humor #2021 #fallout #falloutnewvegas #fallout NV #gaming</td>\n",
       "      <td>0.00</td>\n",
       "      <td>0.00</td>\n",
       "      <td>0.00</td>\n",
       "      <td>0.00</td>\n",
       "      <td>0.00</td>\n",
       "      <td>0.00</td>\n",
       "    </tr>\n",
       "    <tr>\n",
       "      <th>47688</th>\n",
       "      <td>That’s why we have problems we have today with Bill Gates and the “Great Reset”. The Nazis weren’t ended, just rebranded.</td>\n",
       "      <td>0.00</td>\n",
       "      <td>0.00</td>\n",
       "      <td>0.00</td>\n",
       "      <td>0.00</td>\n",
       "      <td>0.00</td>\n",
       "      <td>0.00</td>\n",
       "    </tr>\n",
       "  </tbody>\n",
       "</table>\n",
       "<p>21557 rows × 7 columns</p>\n",
       "</div>"
      ],
      "text/plain": [
       "                                                                                                                                                                                                                                                                            post_text                toxic         severe_toxic              obscene               threat               insult        identity_hate\n",
       "0      Could not be more clear                                                                                                                                                                                                                                                                        0.00                 0.00                 0.00                 0.00                 0.00                 0.00\n",
       "2      Please share this photo. This women assaulted a Trump supporter busting her eye open and ran away. She was wearing an “Admiral Security Services” jacket so it seems she works for them. The closest Admiral Security places in DC are either in Bethesda, MD or Baltimore, MD                 0.00                 0.00                 0.00                 0.00                 0.00                 0.00\n",
       "6      America, home of the brave. America, home of the strong!We have just begun to fight. You want to push us? Dems are doomed!#freedom #Americabecausefuckyou #warriors #fight #doSomething #NOFEAR #win                                                                                           0.01                 0.00                 0.00                 0.00                 0.00                 0.00\n",
       "7      Please read the message below carefully. We have ONE President at a time. Our President is Donald J. Trump.When President Trump speaks, listen carefully.                                                                                                                                      0.00                 0.00                 0.00                 0.00                 0.00                 0.00\n",
       "13     Ashli Babbitt.14 year veteranPatriotKilled at the Capitol today.                                                                                                                                                                                                                               0.00                 0.00                 0.00                 0.00                 0.00                 0.00\n",
       "...                                                                 ...                                                                                                                                                                                                                                ...                  ...                  ...                  ...                  ...                  ...\n",
       "47682  Further proof that President Donald Trump won. The media is trying for a color revolution, a coup.                                                                                                                                                                                             0.00                 0.00                 0.00                 0.00                 0.00                 0.00\n",
       "47683  The definition of insanity is doing the same thing over and over and expecting a different result. Give me a break, they use the same machines the same tactics and they got their same result. THE QUESTION IS: What are we gonna do about it                                                 0.00                 0.00                 0.00                 0.00                 0.00                 0.00\n",
       "47685  HOLD THE LINE!!!!!! NEVER GIVE UP!!!!!!!                                                                                                                                                                                                                                                       0.00                 0.00                 0.00                 0.00                 0.00                 0.00\n",
       "47686  #jihadoncapitolhill #stormthecapitol #memes #funny #humor #2021 #fallout #falloutnewvegas #fallout NV #gaming                                                                                                                                                                                  0.00                 0.00                 0.00                 0.00                 0.00                 0.00\n",
       "47688  That’s why we have problems we have today with Bill Gates and the “Great Reset”. The Nazis weren’t ended, just rebranded.                                                                                                                                                                      0.00                 0.00                 0.00                 0.00                 0.00                 0.00\n",
       "\n",
       "[21557 rows x 7 columns]"
      ]
     },
     "execution_count": 180,
     "metadata": {},
     "output_type": "execute_result"
    }
   ],
   "source": [
    "parler_threshold[[\"post_text\"]+pred_labels]"
   ]
  },
  {
   "cell_type": "code",
   "execution_count": 185,
   "metadata": {},
   "outputs": [],
   "source": [
    "parler_threshold.to_csv('pandas_dfs/parler_threshold.csv', index = True, sep=',', quotechar='\"')"
   ]
  },
  {
   "cell_type": "code",
   "execution_count": 198,
   "metadata": {},
   "outputs": [],
   "source": [
    "parler_threshold = pd.read_csv('pandas_dfs/parler_threshold.csv', index_col=0, sep=',', quotechar='\"')"
   ]
  },
  {
   "cell_type": "markdown",
   "metadata": {},
   "source": [
    "### Comments\n",
    "A problem with this approach arises when missed classifications that are egregiously threatening aren't propagated to the sample.\n",
    "\n",
    "A way to check this is to create a hold-out set from this, and train on the remainder.\n",
    "We return to this hold-out set with a model trained on that remainder.\n",
    "We can then check if the model was able to learn more from this body of toxic text to flag things that are missed.\n",
    "Setting a strong threshold will let us eyeball any missed predictions.\n"
   ]
  },
  {
   "cell_type": "code",
   "execution_count": 202,
   "metadata": {},
   "outputs": [],
   "source": [
    "training_leakage = parler_df.drop(parler_threshold.index)"
   ]
  },
  {
   "cell_type": "code",
   "execution_count": 204,
   "metadata": {
    "collapsed": true
   },
   "outputs": [
    {
     "data": {
      "text/html": [
       "<div>\n",
       "<style scoped>\n",
       "    .dataframe tbody tr th:only-of-type {\n",
       "        vertical-align: middle;\n",
       "    }\n",
       "\n",
       "    .dataframe tbody tr th {\n",
       "        vertical-align: top;\n",
       "    }\n",
       "\n",
       "    .dataframe thead th {\n",
       "        text-align: right;\n",
       "    }\n",
       "</style>\n",
       "<table border=\"1\" class=\"dataframe\">\n",
       "  <thead>\n",
       "    <tr style=\"text-align: right;\">\n",
       "      <th></th>\n",
       "      <th>author_name</th>\n",
       "      <th>author_username</th>\n",
       "      <th>author_profile_photo</th>\n",
       "      <th>post_text</th>\n",
       "      <th>post_image</th>\n",
       "      <th>post_timestamp</th>\n",
       "      <th>post_impressions</th>\n",
       "      <th>0</th>\n",
       "      <th>toxic</th>\n",
       "      <th>severe_toxic</th>\n",
       "      <th>obscene</th>\n",
       "      <th>threat</th>\n",
       "      <th>insult</th>\n",
       "      <th>identity_hate</th>\n",
       "    </tr>\n",
       "  </thead>\n",
       "  <tbody>\n",
       "    <tr>\n",
       "      <th>1</th>\n",
       "      <td>David Vance</td>\n",
       "      <td>@DavidVance</td>\n",
       "      <td>https://images.parler.com/dc63e4422a2f442495670d1dabe7d6f5_256</td>\n",
       "      <td>Seen THIS?</td>\n",
       "      <td>https://api.parler.com/l/wPSf6i</td>\n",
       "      <td>4 days ago</td>\n",
       "      <td>112,283.00</td>\n",
       "      <td>nan</td>\n",
       "      <td>0.03</td>\n",
       "      <td>0.00</td>\n",
       "      <td>0.00</td>\n",
       "      <td>0.00</td>\n",
       "      <td>0.00</td>\n",
       "      <td>0.00</td>\n",
       "    </tr>\n",
       "    <tr>\n",
       "      <th>3</th>\n",
       "      <td>Sunstepan</td>\n",
       "      <td>@Sunstepan</td>\n",
       "      <td>https://images.parler.com/e83211ff673b47dabb7b63d2562064a9_256</td>\n",
       "      <td>Os brasileiros estão assim... Acorda povo...</td>\n",
       "      <td>https://api.parler.com/l/NRS22</td>\n",
       "      <td>4 days ago</td>\n",
       "      <td>208.00</td>\n",
       "      <td>nan</td>\n",
       "      <td>0.02</td>\n",
       "      <td>0.00</td>\n",
       "      <td>0.01</td>\n",
       "      <td>0.00</td>\n",
       "      <td>0.00</td>\n",
       "      <td>0.00</td>\n",
       "    </tr>\n",
       "    <tr>\n",
       "      <th>4</th>\n",
       "      <td>KAGBABE</td>\n",
       "      <td>@kagbabe</td>\n",
       "      <td>https://images.parler.com/58d4de64b5204d28a975127e0489f853_256</td>\n",
       "      <td>Last screen shot before bed, also fuck Brian Kemp, Brad Raffensperger, Gabriel Sterling, Geoff Duncan and every single RINO</td>\n",
       "      <td>https://api.parler.com/l/imZUJ</td>\n",
       "      <td>4 days ago</td>\n",
       "      <td>19,300.00</td>\n",
       "      <td>nan</td>\n",
       "      <td>0.92</td>\n",
       "      <td>0.02</td>\n",
       "      <td>0.86</td>\n",
       "      <td>0.01</td>\n",
       "      <td>0.19</td>\n",
       "      <td>0.00</td>\n",
       "    </tr>\n",
       "    <tr>\n",
       "      <th>5</th>\n",
       "      <td>Conservative State</td>\n",
       "      <td>@ConservativeState</td>\n",
       "      <td>https://images.parler.com/84320cc94ccc4b239d9d9536c02c142e_256</td>\n",
       "      <td>President Trump trying to keep Republic alive #save The USA</td>\n",
       "      <td>https://api.parler.com/l/FMNvm</td>\n",
       "      <td>4 days ago</td>\n",
       "      <td>207,188.00</td>\n",
       "      <td>nan</td>\n",
       "      <td>0.19</td>\n",
       "      <td>0.00</td>\n",
       "      <td>0.01</td>\n",
       "      <td>0.02</td>\n",
       "      <td>0.02</td>\n",
       "      <td>0.01</td>\n",
       "    </tr>\n",
       "    <tr>\n",
       "      <th>8</th>\n",
       "      <td>Tamee 🇺🇸</td>\n",
       "      <td>@Tamee</td>\n",
       "      <td>https://images.parler.com/2b75d42759f046719d04a1b4afe46c1e_256</td>\n",
       "      <td>Real eyes, realize, real lies #1984 #dopeopleknowhistory #historyrepeatsitself #totalitarianism #tyranny #bigbrother #readahistorybook</td>\n",
       "      <td>https://api.parler.com/l/Tj7T4</td>\n",
       "      <td>2 weeks ago</td>\n",
       "      <td>241.00</td>\n",
       "      <td>nan</td>\n",
       "      <td>0.08</td>\n",
       "      <td>0.00</td>\n",
       "      <td>0.00</td>\n",
       "      <td>0.00</td>\n",
       "      <td>0.01</td>\n",
       "      <td>0.00</td>\n",
       "    </tr>\n",
       "    <tr>\n",
       "      <th>...</th>\n",
       "      <td>...</td>\n",
       "      <td>...</td>\n",
       "      <td>...</td>\n",
       "      <td>...</td>\n",
       "      <td>...</td>\n",
       "      <td>...</td>\n",
       "      <td>...</td>\n",
       "      <td>...</td>\n",
       "      <td>...</td>\n",
       "      <td>...</td>\n",
       "      <td>...</td>\n",
       "      <td>...</td>\n",
       "      <td>...</td>\n",
       "      <td>...</td>\n",
       "    </tr>\n",
       "    <tr>\n",
       "      <th>47680</th>\n",
       "      <td>☄💫🔥T1969W🔥💫☄</td>\n",
       "      <td>@WiseEnough</td>\n",
       "      <td>https://images.parler.com/25d93d87698c450abcb5860b1b203368_256</td>\n",
       "      <td>@trump</td>\n",
       "      <td>https://api.parler.com/l/ADGWt</td>\n",
       "      <td>4 days ago</td>\n",
       "      <td>406.00</td>\n",
       "      <td>nan</td>\n",
       "      <td>0.01</td>\n",
       "      <td>0.00</td>\n",
       "      <td>0.00</td>\n",
       "      <td>0.00</td>\n",
       "      <td>0.00</td>\n",
       "      <td>0.00</td>\n",
       "    </tr>\n",
       "    <tr>\n",
       "      <th>47684</th>\n",
       "      <td>BLACKS FOR TRUMP</td>\n",
       "      <td>@AdeniranDeji</td>\n",
       "      <td>https://images.parler.com/ef05329169234e5fa4c29c2de6e4b6a8_256</td>\n",
       "      <td>🚨🚨🚨🚨Congress is being told to \"shelter in place\" as protestors have breached police lines and entered the Capitol building.How do you like being on lockdown, you fucking bastards?!#FightBack #FightLikeAFlynn🚨🚨</td>\n",
       "      <td>https://api.parler.com/l/Sz3Ch</td>\n",
       "      <td>4 days ago</td>\n",
       "      <td>10,856.00</td>\n",
       "      <td>nan</td>\n",
       "      <td>0.99</td>\n",
       "      <td>0.02</td>\n",
       "      <td>0.96</td>\n",
       "      <td>0.00</td>\n",
       "      <td>0.75</td>\n",
       "      <td>0.00</td>\n",
       "    </tr>\n",
       "    <tr>\n",
       "      <th>47687</th>\n",
       "      <td>SteveDeace</td>\n",
       "      <td>@SteveDeace</td>\n",
       "      <td>https://images.parler.com/9c920e26468544edbb4aee3b1dcee54c_256</td>\n",
       "      <td>Who did this?</td>\n",
       "      <td>https://api.parler.com/l/JP2p3</td>\n",
       "      <td>1 month ago</td>\n",
       "      <td>62,855.00</td>\n",
       "      <td>nan</td>\n",
       "      <td>0.05</td>\n",
       "      <td>0.00</td>\n",
       "      <td>0.01</td>\n",
       "      <td>0.00</td>\n",
       "      <td>0.01</td>\n",
       "      <td>0.00</td>\n",
       "    </tr>\n",
       "    <tr>\n",
       "      <th>47689</th>\n",
       "      <td>Emikko39</td>\n",
       "      <td>@Emikko39</td>\n",
       "      <td>https://images.parler.com/d1003667ac984cff98ff051c65dc22f8_256</td>\n",
       "      <td>I made it!Hang in there!#maga</td>\n",
       "      <td>https://api.parler.com/l/Xk0Io</td>\n",
       "      <td>4 days ago</td>\n",
       "      <td>193.00</td>\n",
       "      <td>nan</td>\n",
       "      <td>0.02</td>\n",
       "      <td>0.00</td>\n",
       "      <td>0.00</td>\n",
       "      <td>0.00</td>\n",
       "      <td>0.00</td>\n",
       "      <td>0.00</td>\n",
       "    </tr>\n",
       "    <tr>\n",
       "      <th>47690</th>\n",
       "      <td>NaN</td>\n",
       "      <td>NaN</td>\n",
       "      <td>NaN</td>\n",
       "      <td>NaN</td>\n",
       "      <td>NaN</td>\n",
       "      <td>NaN</td>\n",
       "      <td>nan</td>\n",
       "      <td>nan</td>\n",
       "      <td>0.05</td>\n",
       "      <td>0.00</td>\n",
       "      <td>0.01</td>\n",
       "      <td>0.00</td>\n",
       "      <td>0.01</td>\n",
       "      <td>0.00</td>\n",
       "    </tr>\n",
       "  </tbody>\n",
       "</table>\n",
       "<p>26134 rows × 14 columns</p>\n",
       "</div>"
      ],
      "text/plain": [
       "              author_name     author_username                                            author_profile_photo                                                                                                                                                                                                          post_text                       post_image post_timestamp     post_impressions                    0                toxic         severe_toxic              obscene               threat               insult        identity_hate\n",
       "1      David Vance         @DavidVance         https://images.parler.com/dc63e4422a2f442495670d1dabe7d6f5_256  Seen THIS?                                                                                                                                                                                                         https://api.parler.com/l/wPSf6i  4 days ago              112,283.00                  nan                 0.03                 0.00                 0.00                 0.00                 0.00                 0.00\n",
       "3      Sunstepan           @Sunstepan          https://images.parler.com/e83211ff673b47dabb7b63d2562064a9_256  Os brasileiros estão assim... Acorda povo...                                                                                                                                                                       https://api.parler.com/l/NRS22   4 days ago                  208.00                  nan                 0.02                 0.00                 0.01                 0.00                 0.00                 0.00\n",
       "4      KAGBABE             @kagbabe            https://images.parler.com/58d4de64b5204d28a975127e0489f853_256  Last screen shot before bed, also fuck Brian Kemp, Brad Raffensperger, Gabriel Sterling, Geoff Duncan and every single RINO                                                                                        https://api.parler.com/l/imZUJ   4 days ago               19,300.00                  nan                 0.92                 0.02                 0.86                 0.01                 0.19                 0.00\n",
       "5      Conservative State  @ConservativeState  https://images.parler.com/84320cc94ccc4b239d9d9536c02c142e_256  President Trump trying to keep Republic alive #save The USA                                                                                                                                                        https://api.parler.com/l/FMNvm   4 days ago              207,188.00                  nan                 0.19                 0.00                 0.01                 0.02                 0.02                 0.01\n",
       "8      Tamee 🇺🇸            @Tamee              https://images.parler.com/2b75d42759f046719d04a1b4afe46c1e_256  Real eyes, realize, real lies #1984 #dopeopleknowhistory #historyrepeatsitself #totalitarianism #tyranny #bigbrother #readahistorybook                                                                             https://api.parler.com/l/Tj7T4   2 weeks ago                 241.00                  nan                 0.08                 0.00                 0.00                 0.00                 0.01                 0.00\n",
       "...         ...               ...                                                                         ...                                                                                                                                     ...                                                                                                        ...           ...                    ...                  ...                  ...                  ...                  ...                  ...                  ...                  ...\n",
       "47680  ☄💫🔥T1969W🔥💫☄        @WiseEnough         https://images.parler.com/25d93d87698c450abcb5860b1b203368_256  @trump                                                                                                                                                                                                             https://api.parler.com/l/ADGWt   4 days ago                  406.00                  nan                 0.01                 0.00                 0.00                 0.00                 0.00                 0.00\n",
       "47684  BLACKS FOR TRUMP    @AdeniranDeji       https://images.parler.com/ef05329169234e5fa4c29c2de6e4b6a8_256  🚨🚨🚨🚨Congress is being told to \"shelter in place\" as protestors have breached police lines and entered the Capitol building.How do you like being on lockdown, you fucking bastards?!#FightBack #FightLikeAFlynn🚨🚨  https://api.parler.com/l/Sz3Ch   4 days ago               10,856.00                  nan                 0.99                 0.02                 0.96                 0.00                 0.75                 0.00\n",
       "47687  SteveDeace          @SteveDeace         https://images.parler.com/9c920e26468544edbb4aee3b1dcee54c_256  Who did this?                                                                                                                                                                                                      https://api.parler.com/l/JP2p3   1 month ago              62,855.00                  nan                 0.05                 0.00                 0.01                 0.00                 0.01                 0.00\n",
       "47689  Emikko39            @Emikko39           https://images.parler.com/d1003667ac984cff98ff051c65dc22f8_256  I made it!Hang in there!#maga                                                                                                                                                                                      https://api.parler.com/l/Xk0Io   4 days ago                  193.00                  nan                 0.02                 0.00                 0.00                 0.00                 0.00                 0.00\n",
       "47690  NaN                 NaN                 NaN                                                             NaN                                                                                                                                                                                                                NaN                              NaN                            nan                  nan                 0.05                 0.00                 0.01                 0.00                 0.01                 0.00\n",
       "\n",
       "[26134 rows x 14 columns]"
      ]
     },
     "execution_count": 204,
     "metadata": {},
     "output_type": "execute_result"
    }
   ],
   "source": [
    "training_leakage"
   ]
  },
  {
   "cell_type": "markdown",
   "metadata": {},
   "source": [
    "### ~5k new data points using threshold of 0.5 \n",
    "\n",
    "Using this set, we will split 1k as holdout2 and use 4k for training\n"
   ]
  },
  {
   "cell_type": "code",
   "execution_count": 205,
   "metadata": {},
   "outputs": [],
   "source": [
    "toxic_parler_subset = training_leakage[(training_leakage[pred_labels] >= 0.5).any(axis=1)]"
   ]
  },
  {
   "cell_type": "code",
   "execution_count": 207,
   "metadata": {},
   "outputs": [
    {
     "data": {
      "text/plain": [
       "5057"
      ]
     },
     "execution_count": 207,
     "metadata": {},
     "output_type": "execute_result"
    }
   ],
   "source": [
    "len(toxic_parler_subset)"
   ]
  },
  {
   "cell_type": "code",
   "execution_count": 217,
   "metadata": {},
   "outputs": [],
   "source": [
    "toxic_parler_train = toxic_parler_subset[[\"post_text\"]+pred_labels]"
   ]
  },
  {
   "cell_type": "code",
   "execution_count": 218,
   "metadata": {},
   "outputs": [
    {
     "data": {
      "text/html": [
       "<div>\n",
       "<style scoped>\n",
       "    .dataframe tbody tr th:only-of-type {\n",
       "        vertical-align: middle;\n",
       "    }\n",
       "\n",
       "    .dataframe tbody tr th {\n",
       "        vertical-align: top;\n",
       "    }\n",
       "\n",
       "    .dataframe thead th {\n",
       "        text-align: right;\n",
       "    }\n",
       "</style>\n",
       "<table border=\"1\" class=\"dataframe\">\n",
       "  <thead>\n",
       "    <tr style=\"text-align: right;\">\n",
       "      <th></th>\n",
       "      <th>post_text</th>\n",
       "      <th>toxic</th>\n",
       "      <th>severe_toxic</th>\n",
       "      <th>obscene</th>\n",
       "      <th>threat</th>\n",
       "      <th>insult</th>\n",
       "      <th>identity_hate</th>\n",
       "    </tr>\n",
       "  </thead>\n",
       "  <tbody>\n",
       "    <tr>\n",
       "      <th>4</th>\n",
       "      <td>Last screen shot before bed, also fuck Brian Kemp, Brad Raffensperger, Gabriel Sterling, Geoff Duncan and every single RINO</td>\n",
       "      <td>0.92</td>\n",
       "      <td>0.02</td>\n",
       "      <td>0.86</td>\n",
       "      <td>0.01</td>\n",
       "      <td>0.19</td>\n",
       "      <td>0.00</td>\n",
       "    </tr>\n",
       "    <tr>\n",
       "      <th>15</th>\n",
       "      <td>Even Jesus won't forgive you for what you've done you soulless pussy!!!!</td>\n",
       "      <td>0.93</td>\n",
       "      <td>0.03</td>\n",
       "      <td>0.73</td>\n",
       "      <td>0.02</td>\n",
       "      <td>0.38</td>\n",
       "      <td>0.02</td>\n",
       "    </tr>\n",
       "    <tr>\n",
       "      <th>34</th>\n",
       "      <td>Staged‼️I am getting sick to my somach</td>\n",
       "      <td>0.66</td>\n",
       "      <td>0.00</td>\n",
       "      <td>0.06</td>\n",
       "      <td>0.04</td>\n",
       "      <td>0.11</td>\n",
       "      <td>0.01</td>\n",
       "    </tr>\n",
       "    <tr>\n",
       "      <th>53</th>\n",
       "      <td>Traitor Matt Drudge crawled out from under his rock again. (The race hasn't been called yet, and anything could happen).</td>\n",
       "      <td>0.58</td>\n",
       "      <td>0.00</td>\n",
       "      <td>0.06</td>\n",
       "      <td>0.00</td>\n",
       "      <td>0.12</td>\n",
       "      <td>0.01</td>\n",
       "    </tr>\n",
       "    <tr>\n",
       "      <th>59</th>\n",
       "      <td>ANTIFA unloaded from buses with Tags and all!!!!Completely organized!!!!! PENCE is a TRAITOR!!!</td>\n",
       "      <td>0.65</td>\n",
       "      <td>0.00</td>\n",
       "      <td>0.04</td>\n",
       "      <td>0.00</td>\n",
       "      <td>0.20</td>\n",
       "      <td>0.02</td>\n",
       "    </tr>\n",
       "    <tr>\n",
       "      <th>...</th>\n",
       "      <td>...</td>\n",
       "      <td>...</td>\n",
       "      <td>...</td>\n",
       "      <td>...</td>\n",
       "      <td>...</td>\n",
       "      <td>...</td>\n",
       "      <td>...</td>\n",
       "    </tr>\n",
       "    <tr>\n",
       "      <th>47662</th>\n",
       "      <td>Another Anti Trump wanker 👇</td>\n",
       "      <td>0.55</td>\n",
       "      <td>0.00</td>\n",
       "      <td>0.06</td>\n",
       "      <td>0.01</td>\n",
       "      <td>0.17</td>\n",
       "      <td>0.04</td>\n",
       "    </tr>\n",
       "    <tr>\n",
       "      <th>47665</th>\n",
       "      <td>Bunch of morons paying quadruple what we pay to own land in safe, clean, peaceful places...calling US the backwards rednecks. Just LOL.</td>\n",
       "      <td>0.85</td>\n",
       "      <td>0.01</td>\n",
       "      <td>0.13</td>\n",
       "      <td>0.01</td>\n",
       "      <td>0.50</td>\n",
       "      <td>0.04</td>\n",
       "    </tr>\n",
       "    <tr>\n",
       "      <th>47674</th>\n",
       "      <td>▶️ The Fat Lady Sang.▶️ WHOSE FAULT? Trump, His Advisors, Gold Badge Accounts, Qanon, Social media team.▶️ Trump will never run again. It's over.#Georgia #Election #StoptheSteal #Biden #Pardon @TeamTrump@TedCruz @JimJordan @GenFlynn contact me idiots.</td>\n",
       "      <td>0.92</td>\n",
       "      <td>0.00</td>\n",
       "      <td>0.17</td>\n",
       "      <td>0.00</td>\n",
       "      <td>0.52</td>\n",
       "      <td>0.01</td>\n",
       "    </tr>\n",
       "    <tr>\n",
       "      <th>47676</th>\n",
       "      <td>Another wanker 👇</td>\n",
       "      <td>0.90</td>\n",
       "      <td>0.03</td>\n",
       "      <td>0.58</td>\n",
       "      <td>0.01</td>\n",
       "      <td>0.44</td>\n",
       "      <td>0.02</td>\n",
       "    </tr>\n",
       "    <tr>\n",
       "      <th>47684</th>\n",
       "      <td>🚨🚨🚨🚨Congress is being told to \"shelter in place\" as protestors have breached police lines and entered the Capitol building.How do you like being on lockdown, you fucking bastards?!#FightBack #FightLikeAFlynn🚨🚨</td>\n",
       "      <td>0.99</td>\n",
       "      <td>0.02</td>\n",
       "      <td>0.96</td>\n",
       "      <td>0.00</td>\n",
       "      <td>0.75</td>\n",
       "      <td>0.00</td>\n",
       "    </tr>\n",
       "  </tbody>\n",
       "</table>\n",
       "<p>5057 rows × 7 columns</p>\n",
       "</div>"
      ],
      "text/plain": [
       "                                                                                                                                                                                                                                                         post_text                toxic         severe_toxic              obscene               threat               insult        identity_hate\n",
       "4      Last screen shot before bed, also fuck Brian Kemp, Brad Raffensperger, Gabriel Sterling, Geoff Duncan and every single RINO                                                                                                                                                 0.92                 0.02                 0.86                 0.01                 0.19                 0.00\n",
       "15     Even Jesus won't forgive you for what you've done you soulless pussy!!!!                                                                                                                                                                                                    0.93                 0.03                 0.73                 0.02                 0.38                 0.02\n",
       "34     Staged‼️I am getting sick to my somach                                                                                                                                                                                                                                      0.66                 0.00                 0.06                 0.04                 0.11                 0.01\n",
       "53     Traitor Matt Drudge crawled out from under his rock again. (The race hasn't been called yet, and anything could happen).                                                                                                                                                    0.58                 0.00                 0.06                 0.00                 0.12                 0.01\n",
       "59     ANTIFA unloaded from buses with Tags and all!!!!Completely organized!!!!! PENCE is a TRAITOR!!!                                                                                                                                                                             0.65                 0.00                 0.04                 0.00                 0.20                 0.02\n",
       "...                                                                                                ...                                                                                                                                                                              ...                  ...                  ...                  ...                  ...                  ...\n",
       "47662  Another Anti Trump wanker 👇                                                                                                                                                                                                                                                 0.55                 0.00                 0.06                 0.01                 0.17                 0.04\n",
       "47665  Bunch of morons paying quadruple what we pay to own land in safe, clean, peaceful places...calling US the backwards rednecks. Just LOL.                                                                                                                                     0.85                 0.01                 0.13                 0.01                 0.50                 0.04\n",
       "47674  ▶️ The Fat Lady Sang.▶️ WHOSE FAULT? Trump, His Advisors, Gold Badge Accounts, Qanon, Social media team.▶️ Trump will never run again. It's over.#Georgia #Election #StoptheSteal #Biden #Pardon @TeamTrump@TedCruz @JimJordan @GenFlynn contact me idiots.                 0.92                 0.00                 0.17                 0.00                 0.52                 0.01\n",
       "47676  Another wanker 👇                                                                                                                                                                                                                                                            0.90                 0.03                 0.58                 0.01                 0.44                 0.02\n",
       "47684  🚨🚨🚨🚨Congress is being told to \"shelter in place\" as protestors have breached police lines and entered the Capitol building.How do you like being on lockdown, you fucking bastards?!#FightBack #FightLikeAFlynn🚨🚨                                                           0.99                 0.02                 0.96                 0.00                 0.75                 0.00\n",
       "\n",
       "[5057 rows x 7 columns]"
      ]
     },
     "execution_count": 218,
     "metadata": {},
     "output_type": "execute_result"
    }
   ],
   "source": [
    "toxic_parler_train"
   ]
  },
  {
   "cell_type": "code",
   "execution_count": 221,
   "metadata": {
    "collapsed": true
   },
   "outputs": [
    {
     "name": "stderr",
     "output_type": "stream",
     "text": [
      "C:\\Users\\medisp\\Miniconda3\\envs\\keras\\lib\\site-packages\\pandas\\core\\indexing.py:670: SettingWithCopyWarning: \n",
      "A value is trying to be set on a copy of a slice from a DataFrame\n",
      "\n",
      "See the caveats in the documentation: https://pandas.pydata.org/pandas-docs/stable/user_guide/indexing.html#returning-a-view-versus-a-copy\n",
      "  iloc._setitem_with_indexer(indexer, value)\n",
      "C:\\Users\\medisp\\Miniconda3\\envs\\keras\\lib\\site-packages\\ipykernel_launcher.py:2: SettingWithCopyWarning: \n",
      "A value is trying to be set on a copy of a slice from a DataFrame\n",
      "\n",
      "See the caveats in the documentation: https://pandas.pydata.org/pandas-docs/stable/user_guide/indexing.html#returning-a-view-versus-a-copy\n",
      "  \n",
      "C:\\Users\\medisp\\Miniconda3\\envs\\keras\\lib\\site-packages\\pandas\\core\\indexing.py:670: SettingWithCopyWarning: \n",
      "A value is trying to be set on a copy of a slice from a DataFrame\n",
      "\n",
      "See the caveats in the documentation: https://pandas.pydata.org/pandas-docs/stable/user_guide/indexing.html#returning-a-view-versus-a-copy\n",
      "  iloc._setitem_with_indexer(indexer, value)\n",
      "C:\\Users\\medisp\\Miniconda3\\envs\\keras\\lib\\site-packages\\ipykernel_launcher.py:3: SettingWithCopyWarning: \n",
      "A value is trying to be set on a copy of a slice from a DataFrame\n",
      "\n",
      "See the caveats in the documentation: https://pandas.pydata.org/pandas-docs/stable/user_guide/indexing.html#returning-a-view-versus-a-copy\n",
      "  This is separate from the ipykernel package so we can avoid doing imports until\n",
      "C:\\Users\\medisp\\Miniconda3\\envs\\keras\\lib\\site-packages\\pandas\\core\\indexing.py:670: SettingWithCopyWarning: \n",
      "A value is trying to be set on a copy of a slice from a DataFrame\n",
      "\n",
      "See the caveats in the documentation: https://pandas.pydata.org/pandas-docs/stable/user_guide/indexing.html#returning-a-view-versus-a-copy\n",
      "  iloc._setitem_with_indexer(indexer, value)\n",
      "C:\\Users\\medisp\\Miniconda3\\envs\\keras\\lib\\site-packages\\ipykernel_launcher.py:2: SettingWithCopyWarning: \n",
      "A value is trying to be set on a copy of a slice from a DataFrame\n",
      "\n",
      "See the caveats in the documentation: https://pandas.pydata.org/pandas-docs/stable/user_guide/indexing.html#returning-a-view-versus-a-copy\n",
      "  \n",
      "C:\\Users\\medisp\\Miniconda3\\envs\\keras\\lib\\site-packages\\pandas\\core\\indexing.py:670: SettingWithCopyWarning: \n",
      "A value is trying to be set on a copy of a slice from a DataFrame\n",
      "\n",
      "See the caveats in the documentation: https://pandas.pydata.org/pandas-docs/stable/user_guide/indexing.html#returning-a-view-versus-a-copy\n",
      "  iloc._setitem_with_indexer(indexer, value)\n",
      "C:\\Users\\medisp\\Miniconda3\\envs\\keras\\lib\\site-packages\\ipykernel_launcher.py:3: SettingWithCopyWarning: \n",
      "A value is trying to be set on a copy of a slice from a DataFrame\n",
      "\n",
      "See the caveats in the documentation: https://pandas.pydata.org/pandas-docs/stable/user_guide/indexing.html#returning-a-view-versus-a-copy\n",
      "  This is separate from the ipykernel package so we can avoid doing imports until\n",
      "C:\\Users\\medisp\\Miniconda3\\envs\\keras\\lib\\site-packages\\pandas\\core\\indexing.py:670: SettingWithCopyWarning: \n",
      "A value is trying to be set on a copy of a slice from a DataFrame\n",
      "\n",
      "See the caveats in the documentation: https://pandas.pydata.org/pandas-docs/stable/user_guide/indexing.html#returning-a-view-versus-a-copy\n",
      "  iloc._setitem_with_indexer(indexer, value)\n",
      "C:\\Users\\medisp\\Miniconda3\\envs\\keras\\lib\\site-packages\\ipykernel_launcher.py:2: SettingWithCopyWarning: \n",
      "A value is trying to be set on a copy of a slice from a DataFrame\n",
      "\n",
      "See the caveats in the documentation: https://pandas.pydata.org/pandas-docs/stable/user_guide/indexing.html#returning-a-view-versus-a-copy\n",
      "  \n",
      "C:\\Users\\medisp\\Miniconda3\\envs\\keras\\lib\\site-packages\\pandas\\core\\indexing.py:670: SettingWithCopyWarning: \n",
      "A value is trying to be set on a copy of a slice from a DataFrame\n",
      "\n",
      "See the caveats in the documentation: https://pandas.pydata.org/pandas-docs/stable/user_guide/indexing.html#returning-a-view-versus-a-copy\n",
      "  iloc._setitem_with_indexer(indexer, value)\n",
      "C:\\Users\\medisp\\Miniconda3\\envs\\keras\\lib\\site-packages\\ipykernel_launcher.py:3: SettingWithCopyWarning: \n",
      "A value is trying to be set on a copy of a slice from a DataFrame\n",
      "\n",
      "See the caveats in the documentation: https://pandas.pydata.org/pandas-docs/stable/user_guide/indexing.html#returning-a-view-versus-a-copy\n",
      "  This is separate from the ipykernel package so we can avoid doing imports until\n",
      "C:\\Users\\medisp\\Miniconda3\\envs\\keras\\lib\\site-packages\\pandas\\core\\indexing.py:670: SettingWithCopyWarning: \n",
      "A value is trying to be set on a copy of a slice from a DataFrame\n",
      "\n",
      "See the caveats in the documentation: https://pandas.pydata.org/pandas-docs/stable/user_guide/indexing.html#returning-a-view-versus-a-copy\n",
      "  iloc._setitem_with_indexer(indexer, value)\n",
      "C:\\Users\\medisp\\Miniconda3\\envs\\keras\\lib\\site-packages\\ipykernel_launcher.py:2: SettingWithCopyWarning: \n",
      "A value is trying to be set on a copy of a slice from a DataFrame\n",
      "\n",
      "See the caveats in the documentation: https://pandas.pydata.org/pandas-docs/stable/user_guide/indexing.html#returning-a-view-versus-a-copy\n",
      "  \n",
      "C:\\Users\\medisp\\Miniconda3\\envs\\keras\\lib\\site-packages\\pandas\\core\\indexing.py:670: SettingWithCopyWarning: \n",
      "A value is trying to be set on a copy of a slice from a DataFrame\n",
      "\n",
      "See the caveats in the documentation: https://pandas.pydata.org/pandas-docs/stable/user_guide/indexing.html#returning-a-view-versus-a-copy\n",
      "  iloc._setitem_with_indexer(indexer, value)\n",
      "C:\\Users\\medisp\\Miniconda3\\envs\\keras\\lib\\site-packages\\ipykernel_launcher.py:3: SettingWithCopyWarning: \n",
      "A value is trying to be set on a copy of a slice from a DataFrame\n",
      "\n",
      "See the caveats in the documentation: https://pandas.pydata.org/pandas-docs/stable/user_guide/indexing.html#returning-a-view-versus-a-copy\n",
      "  This is separate from the ipykernel package so we can avoid doing imports until\n",
      "C:\\Users\\medisp\\Miniconda3\\envs\\keras\\lib\\site-packages\\pandas\\core\\indexing.py:670: SettingWithCopyWarning: \n",
      "A value is trying to be set on a copy of a slice from a DataFrame\n",
      "\n",
      "See the caveats in the documentation: https://pandas.pydata.org/pandas-docs/stable/user_guide/indexing.html#returning-a-view-versus-a-copy\n",
      "  iloc._setitem_with_indexer(indexer, value)\n",
      "C:\\Users\\medisp\\Miniconda3\\envs\\keras\\lib\\site-packages\\ipykernel_launcher.py:2: SettingWithCopyWarning: \n",
      "A value is trying to be set on a copy of a slice from a DataFrame\n",
      "\n",
      "See the caveats in the documentation: https://pandas.pydata.org/pandas-docs/stable/user_guide/indexing.html#returning-a-view-versus-a-copy\n",
      "  \n",
      "C:\\Users\\medisp\\Miniconda3\\envs\\keras\\lib\\site-packages\\pandas\\core\\indexing.py:670: SettingWithCopyWarning: \n",
      "A value is trying to be set on a copy of a slice from a DataFrame\n",
      "\n",
      "See the caveats in the documentation: https://pandas.pydata.org/pandas-docs/stable/user_guide/indexing.html#returning-a-view-versus-a-copy\n",
      "  iloc._setitem_with_indexer(indexer, value)\n",
      "C:\\Users\\medisp\\Miniconda3\\envs\\keras\\lib\\site-packages\\ipykernel_launcher.py:3: SettingWithCopyWarning: \n",
      "A value is trying to be set on a copy of a slice from a DataFrame\n",
      "\n",
      "See the caveats in the documentation: https://pandas.pydata.org/pandas-docs/stable/user_guide/indexing.html#returning-a-view-versus-a-copy\n",
      "  This is separate from the ipykernel package so we can avoid doing imports until\n",
      "C:\\Users\\medisp\\Miniconda3\\envs\\keras\\lib\\site-packages\\pandas\\core\\indexing.py:670: SettingWithCopyWarning: \n",
      "A value is trying to be set on a copy of a slice from a DataFrame\n",
      "\n",
      "See the caveats in the documentation: https://pandas.pydata.org/pandas-docs/stable/user_guide/indexing.html#returning-a-view-versus-a-copy\n",
      "  iloc._setitem_with_indexer(indexer, value)\n",
      "C:\\Users\\medisp\\Miniconda3\\envs\\keras\\lib\\site-packages\\ipykernel_launcher.py:2: SettingWithCopyWarning: \n",
      "A value is trying to be set on a copy of a slice from a DataFrame\n",
      "\n",
      "See the caveats in the documentation: https://pandas.pydata.org/pandas-docs/stable/user_guide/indexing.html#returning-a-view-versus-a-copy\n",
      "  \n",
      "C:\\Users\\medisp\\Miniconda3\\envs\\keras\\lib\\site-packages\\pandas\\core\\indexing.py:670: SettingWithCopyWarning: \n",
      "A value is trying to be set on a copy of a slice from a DataFrame\n",
      "\n",
      "See the caveats in the documentation: https://pandas.pydata.org/pandas-docs/stable/user_guide/indexing.html#returning-a-view-versus-a-copy\n",
      "  iloc._setitem_with_indexer(indexer, value)\n",
      "C:\\Users\\medisp\\Miniconda3\\envs\\keras\\lib\\site-packages\\ipykernel_launcher.py:3: SettingWithCopyWarning: \n",
      "A value is trying to be set on a copy of a slice from a DataFrame\n",
      "\n",
      "See the caveats in the documentation: https://pandas.pydata.org/pandas-docs/stable/user_guide/indexing.html#returning-a-view-versus-a-copy\n",
      "  This is separate from the ipykernel package so we can avoid doing imports until\n"
     ]
    }
   ],
   "source": [
    "for label in pred_labels:\n",
    "    toxic_parler_train[label].loc[toxic_parler_train[label] > 0.5] = 1\n",
    "    toxic_parler_train[label].loc[toxic_parler_train[label] < 0.5] = 0"
   ]
  },
  {
   "cell_type": "code",
   "execution_count": 222,
   "metadata": {
    "collapsed": true
   },
   "outputs": [
    {
     "data": {
      "text/html": [
       "<div>\n",
       "<style scoped>\n",
       "    .dataframe tbody tr th:only-of-type {\n",
       "        vertical-align: middle;\n",
       "    }\n",
       "\n",
       "    .dataframe tbody tr th {\n",
       "        vertical-align: top;\n",
       "    }\n",
       "\n",
       "    .dataframe thead th {\n",
       "        text-align: right;\n",
       "    }\n",
       "</style>\n",
       "<table border=\"1\" class=\"dataframe\">\n",
       "  <thead>\n",
       "    <tr style=\"text-align: right;\">\n",
       "      <th></th>\n",
       "      <th>post_text</th>\n",
       "      <th>toxic</th>\n",
       "      <th>severe_toxic</th>\n",
       "      <th>obscene</th>\n",
       "      <th>threat</th>\n",
       "      <th>insult</th>\n",
       "      <th>identity_hate</th>\n",
       "    </tr>\n",
       "  </thead>\n",
       "  <tbody>\n",
       "    <tr>\n",
       "      <th>4</th>\n",
       "      <td>Last screen shot before bed, also fuck Brian Kemp, Brad Raffensperger, Gabriel Sterling, Geoff Duncan and every single RINO</td>\n",
       "      <td>1.00</td>\n",
       "      <td>0.00</td>\n",
       "      <td>1.00</td>\n",
       "      <td>0.00</td>\n",
       "      <td>0.00</td>\n",
       "      <td>0.00</td>\n",
       "    </tr>\n",
       "    <tr>\n",
       "      <th>15</th>\n",
       "      <td>Even Jesus won't forgive you for what you've done you soulless pussy!!!!</td>\n",
       "      <td>1.00</td>\n",
       "      <td>0.00</td>\n",
       "      <td>1.00</td>\n",
       "      <td>0.00</td>\n",
       "      <td>0.00</td>\n",
       "      <td>0.00</td>\n",
       "    </tr>\n",
       "    <tr>\n",
       "      <th>34</th>\n",
       "      <td>Staged‼️I am getting sick to my somach</td>\n",
       "      <td>1.00</td>\n",
       "      <td>0.00</td>\n",
       "      <td>0.00</td>\n",
       "      <td>0.00</td>\n",
       "      <td>0.00</td>\n",
       "      <td>0.00</td>\n",
       "    </tr>\n",
       "    <tr>\n",
       "      <th>53</th>\n",
       "      <td>Traitor Matt Drudge crawled out from under his rock again. (The race hasn't been called yet, and anything could happen).</td>\n",
       "      <td>1.00</td>\n",
       "      <td>0.00</td>\n",
       "      <td>0.00</td>\n",
       "      <td>0.00</td>\n",
       "      <td>0.00</td>\n",
       "      <td>0.00</td>\n",
       "    </tr>\n",
       "    <tr>\n",
       "      <th>59</th>\n",
       "      <td>ANTIFA unloaded from buses with Tags and all!!!!Completely organized!!!!! PENCE is a TRAITOR!!!</td>\n",
       "      <td>1.00</td>\n",
       "      <td>0.00</td>\n",
       "      <td>0.00</td>\n",
       "      <td>0.00</td>\n",
       "      <td>0.00</td>\n",
       "      <td>0.00</td>\n",
       "    </tr>\n",
       "    <tr>\n",
       "      <th>...</th>\n",
       "      <td>...</td>\n",
       "      <td>...</td>\n",
       "      <td>...</td>\n",
       "      <td>...</td>\n",
       "      <td>...</td>\n",
       "      <td>...</td>\n",
       "      <td>...</td>\n",
       "    </tr>\n",
       "    <tr>\n",
       "      <th>47662</th>\n",
       "      <td>Another Anti Trump wanker 👇</td>\n",
       "      <td>1.00</td>\n",
       "      <td>0.00</td>\n",
       "      <td>0.00</td>\n",
       "      <td>0.00</td>\n",
       "      <td>0.00</td>\n",
       "      <td>0.00</td>\n",
       "    </tr>\n",
       "    <tr>\n",
       "      <th>47665</th>\n",
       "      <td>Bunch of morons paying quadruple what we pay to own land in safe, clean, peaceful places...calling US the backwards rednecks. Just LOL.</td>\n",
       "      <td>1.00</td>\n",
       "      <td>0.00</td>\n",
       "      <td>0.00</td>\n",
       "      <td>0.00</td>\n",
       "      <td>0.00</td>\n",
       "      <td>0.00</td>\n",
       "    </tr>\n",
       "    <tr>\n",
       "      <th>47674</th>\n",
       "      <td>▶️ The Fat Lady Sang.▶️ WHOSE FAULT? Trump, His Advisors, Gold Badge Accounts, Qanon, Social media team.▶️ Trump will never run again. It's over.#Georgia #Election #StoptheSteal #Biden #Pardon @TeamTrump@TedCruz @JimJordan @GenFlynn contact me idiots.</td>\n",
       "      <td>1.00</td>\n",
       "      <td>0.00</td>\n",
       "      <td>0.00</td>\n",
       "      <td>0.00</td>\n",
       "      <td>1.00</td>\n",
       "      <td>0.00</td>\n",
       "    </tr>\n",
       "    <tr>\n",
       "      <th>47676</th>\n",
       "      <td>Another wanker 👇</td>\n",
       "      <td>1.00</td>\n",
       "      <td>0.00</td>\n",
       "      <td>1.00</td>\n",
       "      <td>0.00</td>\n",
       "      <td>0.00</td>\n",
       "      <td>0.00</td>\n",
       "    </tr>\n",
       "    <tr>\n",
       "      <th>47684</th>\n",
       "      <td>🚨🚨🚨🚨Congress is being told to \"shelter in place\" as protestors have breached police lines and entered the Capitol building.How do you like being on lockdown, you fucking bastards?!#FightBack #FightLikeAFlynn🚨🚨</td>\n",
       "      <td>1.00</td>\n",
       "      <td>0.00</td>\n",
       "      <td>1.00</td>\n",
       "      <td>0.00</td>\n",
       "      <td>1.00</td>\n",
       "      <td>0.00</td>\n",
       "    </tr>\n",
       "  </tbody>\n",
       "</table>\n",
       "<p>5057 rows × 7 columns</p>\n",
       "</div>"
      ],
      "text/plain": [
       "                                                                                                                                                                                                                                                         post_text                toxic         severe_toxic              obscene               threat               insult        identity_hate\n",
       "4      Last screen shot before bed, also fuck Brian Kemp, Brad Raffensperger, Gabriel Sterling, Geoff Duncan and every single RINO                                                                                                                                                 1.00                 0.00                 1.00                 0.00                 0.00                 0.00\n",
       "15     Even Jesus won't forgive you for what you've done you soulless pussy!!!!                                                                                                                                                                                                    1.00                 0.00                 1.00                 0.00                 0.00                 0.00\n",
       "34     Staged‼️I am getting sick to my somach                                                                                                                                                                                                                                      1.00                 0.00                 0.00                 0.00                 0.00                 0.00\n",
       "53     Traitor Matt Drudge crawled out from under his rock again. (The race hasn't been called yet, and anything could happen).                                                                                                                                                    1.00                 0.00                 0.00                 0.00                 0.00                 0.00\n",
       "59     ANTIFA unloaded from buses with Tags and all!!!!Completely organized!!!!! PENCE is a TRAITOR!!!                                                                                                                                                                             1.00                 0.00                 0.00                 0.00                 0.00                 0.00\n",
       "...                                                                                                ...                                                                                                                                                                              ...                  ...                  ...                  ...                  ...                  ...\n",
       "47662  Another Anti Trump wanker 👇                                                                                                                                                                                                                                                 1.00                 0.00                 0.00                 0.00                 0.00                 0.00\n",
       "47665  Bunch of morons paying quadruple what we pay to own land in safe, clean, peaceful places...calling US the backwards rednecks. Just LOL.                                                                                                                                     1.00                 0.00                 0.00                 0.00                 0.00                 0.00\n",
       "47674  ▶️ The Fat Lady Sang.▶️ WHOSE FAULT? Trump, His Advisors, Gold Badge Accounts, Qanon, Social media team.▶️ Trump will never run again. It's over.#Georgia #Election #StoptheSteal #Biden #Pardon @TeamTrump@TedCruz @JimJordan @GenFlynn contact me idiots.                 1.00                 0.00                 0.00                 0.00                 1.00                 0.00\n",
       "47676  Another wanker 👇                                                                                                                                                                                                                                                            1.00                 0.00                 1.00                 0.00                 0.00                 0.00\n",
       "47684  🚨🚨🚨🚨Congress is being told to \"shelter in place\" as protestors have breached police lines and entered the Capitol building.How do you like being on lockdown, you fucking bastards?!#FightBack #FightLikeAFlynn🚨🚨                                                           1.00                 0.00                 1.00                 0.00                 1.00                 0.00\n",
       "\n",
       "[5057 rows x 7 columns]"
      ]
     },
     "execution_count": 222,
     "metadata": {},
     "output_type": "execute_result"
    }
   ],
   "source": [
    "toxic_parler_train"
   ]
  },
  {
   "cell_type": "code",
   "execution_count": 226,
   "metadata": {},
   "outputs": [],
   "source": [
    "parler_train = list(toxic_parler_train.apply(lambda x: clean_text(x.post_text), axis=1))"
   ]
  },
  {
   "cell_type": "code",
   "execution_count": 227,
   "metadata": {},
   "outputs": [],
   "source": [
    "parler_y = toxic_parler_train[pred_labels].values"
   ]
  },
  {
   "cell_type": "code",
   "execution_count": 236,
   "metadata": {},
   "outputs": [],
   "source": [
    "parler_train = list(parler_train)"
   ]
  },
  {
   "cell_type": "code",
   "execution_count": 238,
   "metadata": {},
   "outputs": [],
   "source": [
    "parler_train_append = parler_train[:4000]"
   ]
  },
  {
   "cell_type": "code",
   "execution_count": 239,
   "metadata": {},
   "outputs": [],
   "source": [
    "parler_y_append = parler_y[:4000]"
   ]
  },
  {
   "cell_type": "code",
   "execution_count": 240,
   "metadata": {},
   "outputs": [
    {
     "data": {
      "text/plain": [
       "(4000, 6)"
      ]
     },
     "execution_count": 240,
     "metadata": {},
     "output_type": "execute_result"
    }
   ],
   "source": [
    "parler_y_append.shape"
   ]
  },
  {
   "cell_type": "code",
   "execution_count": 241,
   "metadata": {},
   "outputs": [],
   "source": [
    "parler_x_holdout = parler_train[4000:]"
   ]
  },
  {
   "cell_type": "code",
   "execution_count": 242,
   "metadata": {},
   "outputs": [],
   "source": [
    "parler_y_holdout = parler_y[4000:]"
   ]
  },
  {
   "cell_type": "code",
   "execution_count": 290,
   "metadata": {},
   "outputs": [
    {
     "data": {
      "text/plain": [
       "(1057, 6)"
      ]
     },
     "execution_count": 290,
     "metadata": {},
     "output_type": "execute_result"
    }
   ],
   "source": [
    "parler_y_holdout.shape"
   ]
  },
  {
   "cell_type": "markdown",
   "metadata": {},
   "source": [
    "### Combining texts with parler_train, y with parler_y"
   ]
  },
  {
   "cell_type": "code",
   "execution_count": 231,
   "metadata": {},
   "outputs": [
    {
     "data": {
      "text/plain": [
       "159571"
      ]
     },
     "execution_count": 231,
     "metadata": {},
     "output_type": "execute_result"
    }
   ],
   "source": [
    "len(texts)"
   ]
  },
  {
   "cell_type": "code",
   "execution_count": 246,
   "metadata": {},
   "outputs": [],
   "source": [
    "# 3 duplicates\n",
    "texts.extend(parler_train_append)\n",
    "texts.extend(parler_train_append)\n",
    "texts.extend(parler_train_append)"
   ]
  },
  {
   "cell_type": "code",
   "execution_count": 247,
   "metadata": {},
   "outputs": [
    {
     "data": {
      "text/plain": [
       "171571"
      ]
     },
     "execution_count": 247,
     "metadata": {},
     "output_type": "execute_result"
    }
   ],
   "source": [
    "len(texts)"
   ]
  },
  {
   "cell_type": "code",
   "execution_count": 261,
   "metadata": {},
   "outputs": [],
   "source": [
    "y_list = list(y)\n",
    "y_list.extend(list(parler_y_append))\n",
    "y_list.extend(list(parler_y_append))\n",
    "y_list.extend(list(parler_y_append))"
   ]
  },
  {
   "cell_type": "code",
   "execution_count": 252,
   "metadata": {},
   "outputs": [],
   "source": [
    "list(y).extend(list(parler_y_append))\n",
    "list(y).extend(list(parler_y_append))\n",
    "list(y).extend(list(parler_y_append))"
   ]
  },
  {
   "cell_type": "code",
   "execution_count": 263,
   "metadata": {},
   "outputs": [
    {
     "data": {
      "text/plain": [
       "171571"
      ]
     },
     "execution_count": 263,
     "metadata": {},
     "output_type": "execute_result"
    }
   ],
   "source": [
    "len(y_list)"
   ]
  },
  {
   "cell_type": "code",
   "execution_count": 264,
   "metadata": {},
   "outputs": [],
   "source": [
    "y1 = np.array(y_list)"
   ]
  },
  {
   "cell_type": "code",
   "execution_count": 265,
   "metadata": {
    "scrolled": true
   },
   "outputs": [
    {
     "data": {
      "text/plain": [
       "(171571, 6)"
      ]
     },
     "execution_count": 265,
     "metadata": {},
     "output_type": "execute_result"
    }
   ],
   "source": [
    "y1.shape"
   ]
  },
  {
   "cell_type": "markdown",
   "metadata": {},
   "source": [
    "### Copied Code from Above to retrain"
   ]
  },
  {
   "cell_type": "code",
   "execution_count": 267,
   "metadata": {},
   "outputs": [
    {
     "name": "stdout",
     "output_type": "stream",
     "text": [
      "Vocabulary size: 211814\n"
     ]
    }
   ],
   "source": [
    "tokenizer = Tokenizer(num_words=MAX_NB_WORDS)\n",
    "tokenizer.fit_on_texts(texts)\n",
    "sequences = tokenizer.texts_to_sequences(texts)\n",
    "word_index = tokenizer.word_index\n",
    "print('Vocabulary size:', len(word_index))"
   ]
  },
  {
   "cell_type": "code",
   "execution_count": 268,
   "metadata": {},
   "outputs": [
    {
     "name": "stdout",
     "output_type": "stream",
     "text": [
      "Shape of data tensor: (171571, 200)\n",
      "Shape of label tensor: (159571, 6)\n"
     ]
    }
   ],
   "source": [
    "data = pad_sequences(sequences, padding = 'post', maxlen = MAX_SEQUENCE_LENGTH)\n",
    "print('Shape of data tensor:', data.shape)\n",
    "print('Shape of label tensor:', y.shape)"
   ]
  },
  {
   "cell_type": "code",
   "execution_count": 270,
   "metadata": {},
   "outputs": [],
   "source": [
    "indices = np.arange(data.shape[0])\n",
    "np.random.shuffle(indices)\n",
    "data = data[indices]\n",
    "labels = y1[indices]"
   ]
  },
  {
   "cell_type": "code",
   "execution_count": 271,
   "metadata": {},
   "outputs": [
    {
     "name": "stdout",
     "output_type": "stream",
     "text": [
      "Number of samples in each category:\n",
      "training:  [21850.  1320. 10701.   415.  9542.  1227.]\n",
      "validation:  [5444.  362. 2659.  114. 2424.  334.]\n"
     ]
    }
   ],
   "source": [
    "num_validation_samples = int(VALIDATION_SPLIT*data.shape[0])\n",
    "x_train = data[: -num_validation_samples]\n",
    "y_train = labels[: -num_validation_samples]\n",
    "x_val = data[-num_validation_samples: ]\n",
    "y_val = labels[-num_validation_samples: ]\n",
    "print('Number of samples in each category:')\n",
    "print('training: ', y_train.sum(axis=0))\n",
    "print('validation: ', y_val.sum(axis=0))"
   ]
  },
  {
   "cell_type": "code",
   "execution_count": 272,
   "metadata": {},
   "outputs": [
    {
     "name": "stdout",
     "output_type": "stream",
     "text": [
      "Loading GloVe from: glove_vectors/glove.twitter.27B.200d.txt ...Done.\n",
      " Proceeding with Embedding Matrix... Completed!\n"
     ]
    }
   ],
   "source": [
    "# Using Twitter 200B word vectors\n",
    "embeddings_index = {}\n",
    "GLOVE_DIR = \"glove_vectors/glove.twitter.27B.\"+str(EMBEDDING_DIM)+\"d.txt\"\n",
    "#GLOVE_DIR = \"glove/vectors.txt\"\n",
    "f = open(GLOVE_DIR, errors = 'ignore' , encoding=\"utf8\")\n",
    "print('Loading GloVe from:', GLOVE_DIR,'...', end='')\n",
    "for line in f:\n",
    "    values = line.split()\n",
    "    word = values[0]\n",
    "    embeddings_index[word] = np.asarray(values[1:], dtype='float32')\n",
    "f.close()\n",
    "print(\"Done.\\n Proceeding with Embedding Matrix...\", end=\"\")\n",
    "\n",
    "embedding_matrix = np.random.random((len(word_index) + 1, EMBEDDING_DIM))\n",
    "for word, i in word_index.items():\n",
    "    embedding_vector = embeddings_index.get(word)\n",
    "    if embedding_vector is not None:\n",
    "        embedding_matrix[i] = embedding_vector\n",
    "print(\" Completed!\")\n",
    "\n",
    "#  input --> embedding --> lstm 60 cell --> pooling --> dropout --> dense --> drop --> final dense\n",
    "\n",
    "sequence_input = Input(shape=(MAX_SEQUENCE_LENGTH,), dtype='int32')\n",
    "embedding_layer = Embedding(len(word_index) + 1,\n",
    "                           EMBEDDING_DIM,\n",
    "                           weights = [embedding_matrix],\n",
    "                           input_length = MAX_SEQUENCE_LENGTH,\n",
    "                           trainable=False,\n",
    "                           name = 'embeddings')\n",
    "embedded_sequences = embedding_layer(sequence_input)\n",
    "x = LSTM(60, return_sequences=True,name='lstm_layer')(embedded_sequences)\n",
    "x = GlobalMaxPool1D()(x)\n",
    "x = Dropout(0.1)(x)\n",
    "x = Dense(50, activation=\"relu\")(x)\n",
    "x = Dropout(0.1)(x)\n",
    "preds = Dense(6, activation=\"sigmoid\")(x)"
   ]
  },
  {
   "cell_type": "code",
   "execution_count": 273,
   "metadata": {},
   "outputs": [],
   "source": [
    "model_parler = Model(sequence_input, preds)\n",
    "model_parler.compile(loss = 'binary_crossentropy',\n",
    "             optimizer='adam',\n",
    "             metrics = ['accuracy'])"
   ]
  },
  {
   "cell_type": "code",
   "execution_count": 294,
   "metadata": {},
   "outputs": [
    {
     "name": "stdout",
     "output_type": "stream",
     "text": [
      "Model: \"model\"\n",
      "_________________________________________________________________\n",
      "Layer (type)                 Output Shape              Param #   \n",
      "=================================================================\n",
      "input_1 (InputLayer)         [(None, 200)]             0         \n",
      "_________________________________________________________________\n",
      "embeddings (Embedding)       (None, 200, 200)          42363000  \n",
      "_________________________________________________________________\n",
      "lstm_layer (LSTM)            (None, 200, 60)           62640     \n",
      "_________________________________________________________________\n",
      "global_max_pooling1d (Global (None, 60)                0         \n",
      "_________________________________________________________________\n",
      "dropout (Dropout)            (None, 60)                0         \n",
      "_________________________________________________________________\n",
      "dense (Dense)                (None, 50)                3050      \n",
      "_________________________________________________________________\n",
      "dropout_1 (Dropout)          (None, 50)                0         \n",
      "_________________________________________________________________\n",
      "dense_1 (Dense)              (None, 6)                 306       \n",
      "=================================================================\n",
      "Total params: 42,428,996\n",
      "Trainable params: 65,996\n",
      "Non-trainable params: 42,363,000\n",
      "_________________________________________________________________\n"
     ]
    }
   ],
   "source": [
    "model_parler.summary()"
   ]
  },
  {
   "cell_type": "code",
   "execution_count": 295,
   "metadata": {},
   "outputs": [
    {
     "name": "stdout",
     "output_type": "stream",
     "text": [
      "Training progress:\n",
      "Epoch 1/30\n",
      "135/135 [==============================] - 26s 193ms/step - loss: 0.1799 - accuracy: 0.9947 - val_loss: 0.1849 - val_accuracy: 0.9942\n",
      "Epoch 2/30\n",
      "135/135 [==============================] - 26s 193ms/step - loss: 0.1799 - accuracy: 0.9947 - val_loss: 0.1850 - val_accuracy: 0.9942\n",
      "Epoch 3/30\n",
      "135/135 [==============================] - 27s 198ms/step - loss: 0.1798 - accuracy: 0.9947 - val_loss: 0.1850 - val_accuracy: 0.9942\n",
      "Epoch 4/30\n",
      "135/135 [==============================] - 26s 193ms/step - loss: 0.1796 - accuracy: 0.9947 - val_loss: 0.1852 - val_accuracy: 0.9942\n",
      "Epoch 5/30\n",
      "135/135 [==============================] - 27s 197ms/step - loss: 0.1796 - accuracy: 0.9947 - val_loss: 0.1853 - val_accuracy: 0.9942\n",
      "Epoch 6/30\n",
      "135/135 [==============================] - 26s 192ms/step - loss: 0.1795 - accuracy: 0.9947 - val_loss: 0.1853 - val_accuracy: 0.9942\n",
      "Epoch 7/30\n",
      "135/135 [==============================] - 26s 191ms/step - loss: 0.1793 - accuracy: 0.9947 - val_loss: 0.1855 - val_accuracy: 0.9942\n",
      "Epoch 8/30\n",
      "135/135 [==============================] - 26s 191ms/step - loss: 0.1792 - accuracy: 0.9947 - val_loss: 0.1855 - val_accuracy: 0.9942\n",
      "Epoch 9/30\n",
      "135/135 [==============================] - 26s 191ms/step - loss: 0.1791 - accuracy: 0.9947 - val_loss: 0.1855 - val_accuracy: 0.9942\n",
      "Epoch 10/30\n",
      "135/135 [==============================] - 26s 192ms/step - loss: 0.1787 - accuracy: 0.9947 - val_loss: 0.1856 - val_accuracy: 0.9942\n"
     ]
    }
   ],
   "source": [
    "filepath = \"models/toxic-classifier/parler-classifier-gpu-v0.05-200emb-{epoch:02d}-{accuracy:.2f}.hdf5\"\n",
    "checkpoint = ModelCheckpoint(filepath, \n",
    "                             monitor='accuracy', \n",
    "                             verbose=1, \n",
    "                             save_best_only=True, \n",
    "                             mode='max')\n",
    "\n",
    "reduce_lr = ReduceLROnPlateau(monitor='accuracy',\n",
    "                             factor=0.2,\n",
    "                             patience=2,\n",
    "                             min_lr=0.0001)\n",
    "\n",
    "early_stopping = EarlyStopping(monitor='accuracy',\n",
    "                              patience=6\n",
    "                              )\n",
    "print('Training progress:')\n",
    "history = model_parler.fit(x_train, \n",
    "                    y_train, \n",
    "                    epochs = 30, \n",
    "                    batch_size=1024, \n",
    "                    validation_data=(x_val, y_val), \n",
    "                    callbacks=[reduce_lr,\n",
    "                               early_stopping])\n",
    "model_parler.save('models/toxic-classifier/parler-classifier-gpu-v0.05-200emb.hdf5')\n"
   ]
  },
  {
   "cell_type": "code",
   "execution_count": 275,
   "metadata": {},
   "outputs": [
    {
     "data": {
      "image/png": "[encoded data removed]",
      "text/plain": [
       "<Figure size 432x288 with 1 Axes>"
      ]
     },
     "metadata": {
      "needs_background": "light"
     },
     "output_type": "display_data"
    }
   ],
   "source": [
    "\n",
    "loss = history.history['loss']\n",
    "val_loss = history.history['val_loss']\n",
    "epochs = range(1, len(loss)+1)\n",
    "plt.plot(epochs, loss, label='Training loss')\n",
    "plt.plot(epochs, val_loss, label='Validation loss')\n",
    "plt.title('Training and validation loss')\n",
    "plt.xlabel('Epochs')\n",
    "plt.ylabel('Loss')\n",
    "plt.legend()\n",
    "plt.show();\n"
   ]
  },
  {
   "cell_type": "code",
   "execution_count": 277,
   "metadata": {},
   "outputs": [],
   "source": [
    "# Reading in saved test cleansed text as a list\n",
    "test_cleansed_text = []\n",
    "# open file and read the cleansed texts\n",
    "with open('test_cleansed_text.txt', 'r', encoding=\"utf-8\") as filehandle:\n",
    "    filecontents = filehandle.readlines()\n",
    "    for line in filecontents:\n",
    "        # remove linebreak which is the last character of the string\n",
    "        current_place = line[:-1]\n",
    "        # add item to the list\n",
    "        test_cleansed_text.append(current_place)"
   ]
  },
  {
   "cell_type": "code",
   "execution_count": 296,
   "metadata": {},
   "outputs": [],
   "source": [
    "\n",
    "encoded_parler_x_holdout = tokenizer.texts_to_sequences(parler_x_holdout)\n",
    "enc_parler_x_holdout = pad_sequences(encoded_parler_x_holdout, padding = 'post', maxlen = MAX_SEQUENCE_LENGTH)\n",
    "parler_holdout_preds = model_parler.predict(enc_parler_x_holdout)\n",
    "\n",
    "encoded_input = tokenizer.texts_to_sequences(test_cleansed_text)\n",
    "enc_data = pad_sequences(encoded_input, padding = 'post', maxlen = MAX_SEQUENCE_LENGTH)\n",
    "test_preds = model_parler.predict(enc_data)\n",
    "\n"
   ]
  },
  {
   "cell_type": "code",
   "execution_count": 297,
   "metadata": {
    "scrolled": true
   },
   "outputs": [
    {
     "name": "stdout",
     "output_type": "stream",
     "text": [
      "AUC          0.4767\n",
      "Log Loss     0.1499\n"
     ]
    },
    {
     "data": {
      "text/plain": [
       "{'toxic': 0.5059185292748082,\n",
       " 'severe_toxic': 0.44770770585880115,\n",
       " 'obscene': 0.45158146652049985,\n",
       " 'threat': 0.4956968263532289,\n",
       " 'insult': 0.5174181871309163,\n",
       " 'identity_hate': 0.4417973762998888}"
      ]
     },
     "execution_count": 297,
     "metadata": {},
     "output_type": "execute_result"
    }
   ],
   "source": [
    "print(\"AUC      {:10.4f}\".format(calc_auc(test_y,test_preds)))\n",
    "print(\"Log Loss {:10.4f}\".format(calc_loss(test_y,test_preds)))\n",
    "roc_auc_score_multiclass(test_y,test_preds)"
   ]
  },
  {
   "cell_type": "markdown",
   "metadata": {},
   "source": [
    "#### Everything seems to be toxic in this set\n",
    "\n",
    "so only one class was found, hence inability to calculate metrics"
   ]
  },
  {
   "cell_type": "code",
   "execution_count": 298,
   "metadata": {},
   "outputs": [
    {
     "data": {
      "text/plain": [
       "{'toxic': 0,\n",
       " 'severe_toxic': 0.5259754028837998,\n",
       " 'obscene': 0.48832311837508147,\n",
       " 'threat': 0.9517045454545454,\n",
       " 'insult': 0.5112672859620966,\n",
       " 'identity_hate': 0.41240925900561565}"
      ]
     },
     "execution_count": 298,
     "metadata": {},
     "output_type": "execute_result"
    }
   ],
   "source": [
    "#print(\"AUC      {:10.4f}\".format(calc_auc(parler_y_holdout,parler_holdout_preds)))\n",
    "#print(\"Log Loss {:10.4f}\".format(calc_loss(parler_y_holdout,parler_holdout_preds)))\n",
    "roc_auc_score_multiclass(parler_y_holdout,parler_holdout_preds)"
   ]
  },
  {
   "cell_type": "markdown",
   "metadata": {},
   "source": [
    "## WIP:\n",
    "- Tuning of new model with additional data - drastically reduced test set performance\n",
    "- Evaluation of parler-threshold holdout set of ~21k records. Testing hypothesis of whether additional toxic components are found\n",
    "- Use of textgenrnn for further data augmentation of test set"
   ]
  },
  {
   "cell_type": "markdown",
   "metadata": {},
   "source": [
    "### text gen"
   ]
  },
  {
   "cell_type": "code",
   "execution_count": null,
   "metadata": {},
   "outputs": [],
   "source": [
    "from tensorflow.keras import *"
   ]
  },
  {
   "cell_type": "code",
   "execution_count": null,
   "metadata": {
    "scrolled": true
   },
   "outputs": [],
   "source": [
    "from textgenrnn import textgenrnn"
   ]
  },
  {
   "cell_type": "code",
   "execution_count": null,
   "metadata": {},
   "outputs": [],
   "source": [
    "df2 = pd.read_csv('out.zip', compression='zip', header=0, sep=',', quotechar='\"')"
   ]
  },
  {
   "cell_type": "code",
   "execution_count": null,
   "metadata": {},
   "outputs": [],
   "source": [
    "df2 = df2.dropna()\n",
    "df2 = df2.drop_duplicates(subset=['post_text'])\n",
    "# cleansed_post_text = df2.apply(lambda x: clean_text(x.post_text), axis=1)\n"
   ]
  },
  {
   "cell_type": "code",
   "execution_count": null,
   "metadata": {},
   "outputs": [],
   "source": [
    "# define empty list\n",
    "cleansed_post_text = []\n",
    "# open file and read the cleansed texts\n",
    "with open('text_files/cleansed_parler.txt', 'r', encoding=\"utf-8\") as filehandle:\n",
    "    filecontents = filehandle.readlines()\n",
    "\n",
    "    for line in filecontents:\n",
    "        # remove linebreak which is the last character of the string\n",
    "        current_place = line[:-1]\n",
    "\n",
    "        # add item to the list\n",
    "        cleansed_post_text.append(current_place)\n",
    "        "
   ]
  },
  {
   "cell_type": "code",
   "execution_count": null,
   "metadata": {},
   "outputs": [],
   "source": [
    "textgen = textgenrnn()"
   ]
  },
  {
   "cell_type": "code",
   "execution_count": null,
   "metadata": {},
   "outputs": [],
   "source": [
    "textgen.train_on_texts(list(cleansed_post_text),num_epochs=50, batch_size=512)"
   ]
  },
  {
   "cell_type": "code",
   "execution_count": null,
   "metadata": {},
   "outputs": [],
   "source": [
    "textgen.save('models/parler-hybridgpu-V0.1.hdf5')"
   ]
  },
  {
   "cell_type": "code",
   "execution_count": null,
   "metadata": {},
   "outputs": [],
   "source": [
    "textgen.load(\"models/parler-gen-V0.1.hdf5\")\n",
    "\n",
    "textgen.generate()"
   ]
  },
  {
   "cell_type": "code",
   "execution_count": null,
   "metadata": {},
   "outputs": [],
   "source": [
    "for i in range(3,20):\n",
    "    temp = (i)*0.05\n",
    "    print('Generating samples at temp: ', temp)\n",
    "    textgen.generate(1, temperature=temp, max_gen_length =300  )"
   ]
  }
 ],
 "metadata": {
  "kernelspec": {
   "display_name": "Python [conda env:keras] *",
   "language": "python",
   "name": "conda-env-keras-py"
  },
  "language_info": {
   "codemirror_mode": {
    "name": "ipython",
    "version": 3
   },
   "file_extension": ".py",
   "mimetype": "text/x-python",
   "name": "python",
   "nbconvert_exporter": "python",
   "pygments_lexer": "ipython3",
   "version": "3.6.4"
  }
 },
 "nbformat": 4,
 "nbformat_minor": 2
}
